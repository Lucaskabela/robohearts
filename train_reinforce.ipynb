{
 "cells": [
  {
   "cell_type": "code",
   "execution_count": 0,
   "metadata": {
    "colab": {},
    "colab_type": "code",
    "id": "ZLX5bfvuvJBg"
   },
   "outputs": [],
   "source": [
    "# !unzip gymhearts.zip\n",
    "# %cd robohearts/"
   ]
  },
  {
   "cell_type": "code",
   "execution_count": 0,
   "metadata": {
    "colab": {},
    "colab_type": "code",
    "id": "LQFmIAWEj30z"
   },
   "outputs": [],
   "source": [
    "import gym\n",
    "import multiprocessing\n",
    "from gymhearts.Hearts import *\n",
    "from gymhearts.Agent.human import Human\n",
    "from gymhearts.Agent.random_agent import RandomAgent\n",
    "from gymhearts.Agent.reinforce_agent import REINFORCE_Agent\n",
    "from tqdm import tqdm_notebook\n",
    "import numpy\n",
    "import copy"
   ]
  },
  {
   "cell_type": "code",
   "execution_count": 0,
   "metadata": {
    "colab": {},
    "colab_type": "code",
    "id": "xsPqUNz_j307"
   },
   "outputs": [],
   "source": [
    "NUM_TESTS = 10\n",
    "NUM_EPISODES = 1000\n",
    "TRAINING_ITERS = 100\n",
    "MAX_SCORE = 100\n",
    "BATCH_SIZE = 16\n",
    "run_train = True\n",
    "\n",
    "feature_list = ['in_hand', 'in_play', 'played_cards', 'won_cards', 'scores']\n",
    "\n",
    "playersNameList = ['REINFORCE', 'Rando', 'Randy', 'Randall']\n",
    "agent_list = [0, 0, 0, 0]\n",
    "\n",
    "# Human vs Random\n",
    "reinforce_config = {\n",
    "    'print_info' : False,\n",
    "    'gamma' : 1,\n",
    "    'feature_list' : feature_list,\n",
    "    'alpha': 3e-6,\n",
    "}\n",
    "agent_list[0] = REINFORCE_Agent(playersNameList[0], reinforce_config)\n",
    "agent_list[1] = RandomAgent(playersNameList[1], {'print_info' : False})\n",
    "agent_list[2] = RandomAgent(playersNameList[2], {'print_info' : False})\n",
    "agent_list[3] = RandomAgent(playersNameList[3], {'print_info' : False})"
   ]
  },
  {
   "cell_type": "code",
   "execution_count": 0,
   "metadata": {
    "colab": {},
    "colab_type": "code",
    "id": "Pt8mEPEQj31D"
   },
   "outputs": [],
   "source": [
    "env = gym.make('Hearts_Card_Game-v0')\n",
    "env.__init__(playersNameList, MAX_SCORE)\n",
    "if run_train:\n",
    "    returns = []\n",
    "    for trn_episode in tqdm_notebook(range(TRAINING_ITERS)):\n",
    "        batch = []\n",
    "        for i in range(BATCH_SIZE):\n",
    "            observation = env.reset()\n",
    "            episode_history = []\n",
    "            while True:\n",
    "                now_event = observation['event_name']\n",
    "                IsBroadcast = observation['broadcast']\n",
    "                \n",
    "                if now_event == 'RoundEnd' and len(ep_history) > 0:\n",
    "                    # Add episode info and return to batch\n",
    "                    batch.append((copy.deepcopy(episode_history), -reward['REINFORCE']))\n",
    "                    episode_history = []\n",
    "                    \n",
    "                if now_event == 'GameOver':\n",
    "                    break\n",
    "\n",
    "                action = None\n",
    "                if IsBroadcast == True:\n",
    "                    for agent in agent_list:\n",
    "                        agent.Do_Action(observation)\n",
    "                else:\n",
    "                    playName = observation['data']['playerName']\n",
    "                    for agent in agent_list:\n",
    "                        if agent.name == playName:\n",
    "                            action = agent.Do_Action(observation)\n",
    "\n",
    "                observation_prime, reward, done, info = env.step(action)\n",
    "                \n",
    "                if observation['event_name'] == 'PlayTrick' and observation['data']['playerName'] == 'REINFORCE':\n",
    "                    state_features, valid_features = agent_list[0].generate_features(observation)\n",
    "                    episode_history.append((state_features, valid_features, action))\n",
    "                    \n",
    "                observation = observation_prime\n",
    "                \n",
    "        returns.append(agent_list[0].update(batch))\n",
    "        \n",
    "    agent_list[0].pi.save_pi_model()\n",
    "    agent_list[0].baseline.save_base_model()\n",
    "    avg_returns = numpy.array(returns)\n",
    "    numpy.savetxt('reinforce.txt', avg_returns)\\n\""
   ]
  },
  {
   "cell_type": "code",
   "execution_count": 0,
   "metadata": {
    "colab": {},
    "colab_type": "code",
    "id": "ZX6qQi9blVFk"
   },
   "outputs": [],
   "source": [
    "def run_test(num_won):\n",
    "    # Weird hack to make progress bars render properly\n",
    "    print(' ', end='', flush=True)\n",
    "    for i_ep in tqdm_notebook(range(NUM_EPISODES)):\n",
    "        observation = env.reset()\n",
    "        while True:\n",
    "            now_event = observation['event_name']\n",
    "            IsBroadcast = observation['broadcast']\n",
    "            action = None\n",
    "            if IsBroadcast == True:\n",
    "                for agent in agent_list:\n",
    "                    agent.Do_Action(observation)\n",
    "            else:\n",
    "                playName = observation['data']['playerName']\n",
    "                for agent in agent_list:\n",
    "                    if agent.name == playName:\n",
    "                        action = agent.Do_Action(observation)\n",
    "            if now_event == 'GameOver':\n",
    "                num_won += int(observation['data']['Winner'] == 'REINFORCE')\n",
    "                break\n",
    "            observation, reward, done, info = env.step(action)\n",
    "    return num_won"
   ]
  },
  {
   "cell_type": "code",
   "execution_count": 0,
   "metadata": {
    "colab": {},
    "colab_type": "code",
    "id": "Qn-MK5D5pBUw"
   },
   "outputs": [],
   "source": [
    "env = gym.make('Hearts_Card_Game-v0')\n",
    "env.__init__(playersNameList, MAX_SCORE)\n",
    "agent_list[0] = REINFORCE_Agent(playersNameList[0], params={'feature_list' : feature_list,})\n",
    "agent_list[0].pi.nn.eval()\n",
    "agent_list[0].baseline.nn.eval()\n",
    "\n",
    "reinforce_wins = [0] * NUM_TESTS        \n",
    "pool = multiprocessing.Pool(processes=NUM_TESTS)\n",
    "reinforce_wins = pool.map(run_test, reinforce_wins)\n",
    "print(reinforce_wins)\n",
    "pool.close()\n",
    "pool.join()"
   ]
  },
  {
   "cell_type": "code",
   "execution_count": 0,
   "metadata": {
    "colab": {},
    "colab_type": "code",
    "id": "7y1WTLbOEYw-"
   },
   "outputs": [],
   "source": [
    "def run_test_2(num_won):\n",
    "    # Weird hack to make progress bars render properly\n",
    "    print(' ', end='', flush=True)\n",
    "    for i_ep in tqdm_notebook(range(NUM_EPISODES)):\n",
    "        observation = env.reset()\n",
    "        while True:\n",
    "            now_event = observation['event_name']\n",
    "            IsBroadcast = observation['broadcast']\n",
    "            action = None\n",
    "            if IsBroadcast == True:\n",
    "                for agent in agent_list:\n",
    "                    agent.Do_Action(observation)\n",
    "            else:\n",
    "                playName = observation['data']['playerName']\n",
    "                for agent in agent_list:\n",
    "                    if agent.name == playName:\n",
    "                        action = agent.Do_Action(observation)\n",
    "            if now_event == 'GameOver':\n",
    "                num_won += int(observation['data']['Winner'] == 'Randman')\n",
    "                break\n",
    "            observation, reward, done, info = env.step(action)\n",
    "    return num_won"
   ]
  },
  {
   "cell_type": "code",
   "execution_count": 0,
   "metadata": {
    "colab": {},
    "colab_type": "code",
    "id": "-b3qOJsbh9pf"
   },
   "outputs": [],
   "source": [
    "# EVALUATE THE RANDOM AGENT\n",
    "env = gym.make('Hearts_Card_Game-v0')\n",
    "env.__init__(playersNameList, MAX_SCORE)\n",
    "playersNameList[0] = 'Randman'\n",
    "agent_list[0] = RandomAgent(playersNameList[0])\n",
    "rand_wins = [0] * NUM_TESTS\n",
    "        \n",
    "pool = multiprocessing.Pool(processes=NUM_TESTS)\n",
    "rand_wins = pool.map(run_test_2, rand_wins)\n",
    "print(rand_wins)\n",
    "pool.close()\n",
    "pool.join()"
   ]
  },
  {
   "cell_type": "code",
   "execution_count": 0,
   "metadata": {
    "colab": {},
    "colab_type": "code",
    "id": "3kXj1tPLnR7F"
   },
   "outputs": [],
   "source": [
    "print(f\"Monte Carlo won {sum(reinforce_wins)/len(reinforce_wins)} times on average :: {str(reinforce_wins)}\")\n",
    "print(f\"Random won {sum(rand_wins)/len(rand_wins)} times on average :: {str(rand_wins)}\")"
   ]
  }
 ],
 "metadata": {
  "colab": {
   "collapsed_sections": [],
   "name": "reinforce.ipynb",
   "provenance": []
  },
  "kernelspec": {
   "display_name": "Python 3",
   "language": "python",
   "name": "python3"
  },
  "language_info": {
   "codemirror_mode": {
    "name": "ipython",
    "version": 3
   },
   "file_extension": ".py",
   "mimetype": "text/x-python",
   "name": "python",
   "nbconvert_exporter": "python",
   "pygments_lexer": "ipython3",
   "version": "3.7.3"
  }
 },
 "nbformat": 4,
 "nbformat_minor": 1
}
