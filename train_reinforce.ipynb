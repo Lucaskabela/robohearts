{
 "cells": [
  {
   "cell_type": "code",
   "execution_count": 1,
   "metadata": {
    "colab": {},
    "colab_type": "code",
    "id": "ZLX5bfvuvJBg"
   },
   "outputs": [],
   "source": [
    "# !unzip gymhearts.zip\n",
    "# %cd robohearts/"
   ]
  },
  {
   "cell_type": "code",
   "execution_count": 2,
   "metadata": {
    "colab": {},
    "colab_type": "code",
    "id": "LQFmIAWEj30z"
   },
   "outputs": [
    {
     "name": "stderr",
     "output_type": "stream",
     "text": [
      "WARNING:root:This caffe2 python run does not have GPU support. Will run in CPU only mode.\n"
     ]
    }
   ],
   "source": [
    "import gym\n",
    "import numpy\n",
    "import multiprocessing\n",
    "from gymhearts.Hearts import *\n",
    "from gymhearts.Agent.agent_random import RandomAgent\n",
    "from gymhearts.Agent.agent_reinforce import REINFORCE_Agent\n",
    "from gymhearts.Agent.utils_env import *\n",
    "from gymhearts.Agent.utils_nn import *\n",
    "from tqdm import tqdm_notebook\n",
    "from copy import deepcopy"
   ]
  },
  {
   "cell_type": "code",
   "execution_count": 3,
   "metadata": {
    "colab": {},
    "colab_type": "code",
    "id": "xsPqUNz_j307"
   },
   "outputs": [],
   "source": [
    "# ----------- TRAINING CONFIGURATION -------------\n",
    "# Number of games to train on \n",
    "TRAINING_ITERS = 150\n",
    "\n",
    "# Number of episodes to run during model evaluation\n",
    "NUM_EPISODES = 1000\n",
    "\n",
    "# Number of model evaluations to average together\n",
    "NUM_TESTS = 10\n",
    "\n",
    "# Max score for players to win the game\n",
    "MAX_SCORE = 100\n",
    "\n",
    "# Batch size for performing updates\n",
    "BATCH_SIZE = 16\n",
    "\n",
    "# Set to false to skip training\n",
    "run_train = True\n",
    "\n",
    "# Set to true to resume training from an existing model\n",
    "continue_train = False\n",
    "\n",
    "# Run testing on a random agent for comparison\n",
    "run_random = False\n",
    "\n",
    "# Features to include in model :: [in_hand, in_play, played_cards, won_cards, scores]\n",
    "feature_list = ['in_hand', 'in_play', 'played_cards', 'won_cards', 'scores']\n",
    "\n",
    "# Name of the file that is saved :: {model_name}_pi.th, {model_name}_v.th\n",
    "model_name = 'reinforce_fullset'\n",
    "\n",
    "# Configuration parameters for the model\n",
    "reinforce_config = {\n",
    "    'print_info' : False,\n",
    "    'epsilon' : .01,\n",
    "    'gamma' : 1,\n",
    "    'alpha': 5e-6,\n",
    "    'feature_list' : feature_list,\n",
    "}\n",
    "\n",
    "if continue_train:\n",
    "    reinforce_config['load_model'] = model_name\n",
    "\n",
    "playersNameList = ['REINFORCE', 'Rando', 'Randy', 'Randall']\n",
    "agent_list = [0, 0, 0, 0]\n",
    "\n",
    "agent_list[0] = REINFORCE_Agent(playersNameList[0], reinforce_config)\n",
    "agent_list[1] = RandomAgent(playersNameList[1], {'print_info' : False})\n",
    "agent_list[2] = RandomAgent(playersNameList[2], {'print_info' : False})\n",
    "agent_list[3] = RandomAgent(playersNameList[3], {'print_info' : False})"
   ]
  },
  {
   "cell_type": "code",
   "execution_count": null,
   "metadata": {
    "colab": {},
    "colab_type": "code",
    "id": "Pt8mEPEQj31D"
   },
   "outputs": [
    {
     "data": {
      "application/vnd.jupyter.widget-view+json": {
       "model_id": "cf6b63fa87ce401e95e6b222014005a7",
       "version_major": 2,
       "version_minor": 0
      },
      "text/plain": [
       "HBox(children=(IntProgress(value=0, max=150), HTML(value='')))"
      ]
     },
     "metadata": {},
     "output_type": "display_data"
    }
   ],
   "source": [
    "# ---------- TRAIN REINFORCE AGENT ------------\n",
    "env = gym.make('Hearts_Card_Game-v0')\n",
    "env.__init__(playersNameList, MAX_SCORE)\n",
    "if run_train:\n",
    "    returns = []\n",
    "    for trn_episode in tqdm_notebook(range(TRAINING_ITERS)):\n",
    "         # Save the model every 50 steps\n",
    "        if trn_episode % 10 == 0:\n",
    "            save_model(agent_list[0].baseline.nn, model_name, 'reinforce', agent_list[0].pi.nn)\n",
    "        batch = []\n",
    "        for i in range(BATCH_SIZE):\n",
    "            observation = env.reset()\n",
    "            episode_history = []\n",
    "            while True:\n",
    "                #env.render()\n",
    "                now_event = observation['event_name']\n",
    "                IsBroadcast = observation['broadcast']\n",
    "                \n",
    "                if now_event == 'RoundEnd' and len(episode_history) > 0:\n",
    "                    # Add episode info and return to batch\n",
    "                    batch.append((deepcopy(episode_history), -reward['REINFORCE']))\n",
    "                    episode_history = []\n",
    "                    \n",
    "                if now_event == 'GameOver':\n",
    "                    break\n",
    "\n",
    "                action = None\n",
    "                if IsBroadcast == True:\n",
    "                    for agent in agent_list:\n",
    "                        agent.Do_Action(observation)\n",
    "                else:\n",
    "                    playName = observation['data']['playerName']\n",
    "                    for agent in agent_list:\n",
    "                        if agent.name == playName:\n",
    "                            action = agent.Do_Action(observation)\n",
    "\n",
    "                observation_prime, reward, done, info = env.step(action)\n",
    "                \n",
    "                if observation['event_name'] == 'PlayTrick' and observation['data']['playerName'] == 'REINFORCE':\n",
    "                    state_features, valid_features = agent_list[0].generate_features(observation)\n",
    "                    episode_history.append((state_features, valid_features, action))\n",
    "                    \n",
    "                observation = observation_prime\n",
    "        returns.append(agent_list[0].update(batch))\n",
    "        \n",
    "    save_model(agent_list[0].baseline.nn, model_name, 'reinforce', agent_list[0].pi.nn)\n",
    "    #avg_returns = numpy.array(returns)\n",
    "    #numpy.savetxt('reinforce.txt', avg_returns)\\n\""
   ]
  },
  {
   "cell_type": "code",
   "execution_count": null,
   "metadata": {
    "colab": {},
    "colab_type": "code",
    "id": "ZX6qQi9blVFk"
   },
   "outputs": [],
   "source": [
    "# Function to test reinforce model with multiprocessing\n",
    "def run_test(num_won):\n",
    "    # Weird hack to make progress bars render properly\n",
    "    print(' ', end='', flush=True)\n",
    "    for i_ep in tqdm_notebook(range(NUM_EPISODES)):\n",
    "        observation = env.reset()\n",
    "        while True:\n",
    "            now_event = observation['event_name']\n",
    "            IsBroadcast = observation['broadcast']\n",
    "            action = None\n",
    "            if IsBroadcast == True:\n",
    "                for agent in agent_list:\n",
    "                    agent.Do_Action(observation)\n",
    "            else:\n",
    "                playName = observation['data']['playerName']\n",
    "                for agent in agent_list:\n",
    "                    if agent.name == playName:\n",
    "                        action = agent.Do_Action(observation)\n",
    "            if now_event == 'GameOver':\n",
    "                num_won += int(observation['data']['Winner'] == 'REINFORCE')\n",
    "                break\n",
    "            observation, reward, done, info = env.step(action)\n",
    "    return num_won"
   ]
  },
  {
   "cell_type": "code",
   "execution_count": null,
   "metadata": {
    "colab": {},
    "colab_type": "code",
    "id": "Qn-MK5D5pBUw"
   },
   "outputs": [],
   "source": [
    "# ----------- EVALUATE REINFORCE AGENT ---------------\n",
    "\n",
    "env = gym.make('Hearts_Card_Game-v0')\n",
    "env.__init__(playersNameList, MAX_SCORE)\n",
    "\n",
    "# Evaluation parameters for testing\n",
    "reinforce_config = {\n",
    "    'print_info' : False,\n",
    "    'load_model' : model_name,\n",
    "    'feature_list' : feature_list\n",
    "}\n",
    "\n",
    "agent_list[0] = REINFORCE_Agent(playersNameList[0], reinforce_config)\n",
    "reinforce_wins = [0] * NUM_TESTS\n",
    "\n",
    "pool = multiprocessing.Pool(processes=NUM_TESTS)\n",
    "reinforce_wins = pool.map(run_test, reinforce_wins)\n",
    "print(reinforce_wins)\n",
    "pool.close()\n",
    "pool.join()"
   ]
  },
  {
   "cell_type": "code",
   "execution_count": null,
   "metadata": {
    "colab": {},
    "colab_type": "code",
    "id": "7y1WTLbOEYw-"
   },
   "outputs": [],
   "source": [
    "# Function to test random model with multiprocessing\n",
    "def run_test_random(num_won):\n",
    "    # Weird hack to make progress bars render properly\n",
    "    print(' ', end='', flush=True)\n",
    "    for i_ep in tqdm_notebook(range(NUM_EPISODES)):\n",
    "        observation = env.reset()\n",
    "        while True:\n",
    "            now_event = observation['event_name']\n",
    "            IsBroadcast = observation['broadcast']\n",
    "            action = None\n",
    "            if IsBroadcast == True:\n",
    "                for agent in agent_list:\n",
    "                    agent.Do_Action(observation)\n",
    "            else:\n",
    "                playName = observation['data']['playerName']\n",
    "                for agent in agent_list:\n",
    "                    if agent.name == playName:\n",
    "                        action = agent.Do_Action(observation)\n",
    "            if now_event == 'GameOver':\n",
    "                num_won += int(observation['data']['Winner'] == 'Randman')\n",
    "                break\n",
    "            observation, reward, done, info = env.step(action)\n",
    "    return num_won"
   ]
  },
  {
   "cell_type": "code",
   "execution_count": null,
   "metadata": {
    "colab": {},
    "colab_type": "code",
    "id": "-b3qOJsbh9pf"
   },
   "outputs": [],
   "source": [
    "# ----------- EVALUTATE RANDOM AGENT ---------------\n",
    "if run_random:\n",
    "    env = gym.make('Hearts_Card_Game-v0')\n",
    "    env.__init__(playersNameList, MAX_SCORE)\n",
    "    playersNameList[0] = 'Randman'\n",
    "    agent_list[0] = RandomAgent(playersNameList[0])\n",
    "    rand_wins = [0] * NUM_TESTS\n",
    "    pool = multiprocessing.Pool(processes=NUM_TESTS)\n",
    "    rand_wins = pool.map(run_test_random, rand_wins)\n",
    "    print(rand_wins)\n",
    "    pool.close()\n",
    "    pool.join()"
   ]
  },
  {
   "cell_type": "code",
   "execution_count": null,
   "metadata": {
    "colab": {},
    "colab_type": "code",
    "id": "3kXj1tPLnR7F"
   },
   "outputs": [],
   "source": [
    "print(f\"REINFORCE won {sum(reinforce_wins)/len(reinforce_wins)} times on average :: {str(reinforce_wins)}\")\n",
    "for wins in reinforce_wins:\n",
    "    print(wins)\n",
    "if run_random:\n",
    "    print(f\"Random won {sum(rand_wins)/len(rand_wins)} times on average :: {str(rand_wins)}\")"
   ]
  }
 ],
 "metadata": {
  "colab": {
   "collapsed_sections": [],
   "name": "reinforce.ipynb",
   "provenance": []
  },
  "kernelspec": {
   "display_name": "Python 3",
   "language": "python",
   "name": "python3"
  },
  "language_info": {
   "codemirror_mode": {
    "name": "ipython",
    "version": 3
   },
   "file_extension": ".py",
   "mimetype": "text/x-python",
   "name": "python",
   "nbconvert_exporter": "python",
   "pygments_lexer": "ipython3",
   "version": "3.7.3"
  }
 },
 "nbformat": 4,
 "nbformat_minor": 1
}
