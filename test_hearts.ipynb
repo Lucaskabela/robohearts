{
 "cells": [
  {
   "cell_type": "code",
   "execution_count": 1,
   "metadata": {},
   "outputs": [],
   "source": [
    "import gym\n",
    "import random\n",
    "import time\n",
    "from gymhearts import env as hearts_env\n",
    "from gymhearts import strategy\n",
    "from treys.card import Card\n",
    "from treys.deck import Deck\n",
    "from IPython.display import clear_output\n"
   ]
  },
  {
   "cell_type": "code",
   "execution_count": 2,
   "metadata": {},
   "outputs": [],
   "source": [
    "class HelloStrategy(strategy.IStrategy):\n",
    "    def move(self, observation):\n",
    "        action = observation['valid_hand_cards'][0]\n",
    "        return action"
   ]
  },
  {
   "cell_type": "code",
   "execution_count": 3,
   "metadata": {},
   "outputs": [],
   "source": [
    "class RandoStrategy(strategy.IStrategy):\n",
    "    def move(self, observation):\n",
    "        action = random.choice(observation['valid_hand_cards'])\n",
    "        return action"
   ]
  },
  {
   "cell_type": "code",
   "execution_count": 4,
   "metadata": {},
   "outputs": [],
   "source": [
    "class HumanStrategy(strategy.IStrategy):\n",
    "    def move(self, observation):\n",
    "        cardlist = \" \".join([f'{i}:{Card.int_to_pretty_str(c)}' for i,c in enumerate(observation['valid_hand_cards'])])\n",
    "        prompt = f\"Hello Player {observation['current_player_id']}\\nYour options are {cardlist}\\nPlease make a selection :: \"\n",
    "        selection = input(prompt)\n",
    "        action = observation['valid_hand_cards'][int(selection)]\n",
    "        return action"
   ]
  },
  {
   "cell_type": "code",
   "execution_count": 5,
   "metadata": {},
   "outputs": [],
   "source": [
    "env = hearts_env.HeartsEnv()"
   ]
  },
  {
   "cell_type": "code",
   "execution_count": 6,
   "metadata": {},
   "outputs": [],
   "source": [
    "env.enable_shooting_the_moon()\n",
    "env.add_player(HelloStrategy())\n",
    "env.add_player(RandoStrategy())\n",
    "env.add_player(HelloStrategy())\n",
    "env.add_player(HumanStrategy())\n",
    "env.start()"
   ]
  },
  {
   "cell_type": "code",
   "execution_count": 7,
   "metadata": {},
   "outputs": [],
   "source": [
    "#env.render()"
   ]
  },
  {
   "cell_type": "code",
   "execution_count": 8,
   "metadata": {},
   "outputs": [
    {
     "name": "stdout",
     "output_type": "stream",
     "text": [
      "{'trick': 0, 'round': 1, 'number_of_players': 4, 'scores': [0, 0, 0, 0], 'playing_cards': [], 'playing_ids': [], 'hand_cards': [2114829, 4228625, 134228773, 295429, 268442665, 557831, 33564957, 529159, 16783383, 98306, 268454953, 2106637, 8423187], 'current_player_id': 1, 'valid_hand_cards': [98306], 'number_of_hand_cards_for_all_players': [13, 13, 13, 13]}\n"
     ]
    }
   ],
   "source": [
    "observation = env.get_observation()\n",
    "print(observation)"
   ]
  },
  {
   "cell_type": "code",
   "execution_count": null,
   "metadata": {},
   "outputs": [
    {
     "name": "stdout",
     "output_type": "stream",
     "text": [
      "--------GAME-------\n",
      "round: 1\n",
      "trick: 7\n",
      "heart broken: True\n",
      "-------PLAYER------\n",
      "player 0\n",
      "[4♠] [7♠] [9♠] [4♥] [T♥]\n",
      "score: 3\n",
      "player 1\n",
      "[5♠] [T♠] [A♠] [7♥] [J♥]\n",
      "score: 0\n",
      "player 2\n",
      "[6♠] [6♥] [Q♥] [8♦] [T♦]\n",
      "score: 0\n",
      "player 3\n",
      "[J♠] [Q♠] [3♥] [5♥] [9♥] [6♦]\n",
      "score: 0\n",
      "--------BOARD-------\n",
      "[7♣] [K♥] [2♠] []\n",
      "--------------------\n",
      "\n"
     ]
    }
   ],
   "source": [
    "done = False\n",
    "env.render()\n",
    "while not done:\n",
    "    action = env.move()\n",
    "    observation, reward, done, info = env.step(action)\n",
    "    clear_output(wait=True)\n",
    "    env.render()\n",
    "    time.sleep(0.5)\n",
    "env.render()"
   ]
  },
  {
   "cell_type": "code",
   "execution_count": null,
   "metadata": {},
   "outputs": [],
   "source": []
  }
 ],
 "metadata": {
  "kernelspec": {
   "display_name": "Python 3",
   "language": "python",
   "name": "python3"
  },
  "language_info": {
   "codemirror_mode": {
    "name": "ipython",
    "version": 3
   },
   "file_extension": ".py",
   "mimetype": "text/x-python",
   "name": "python",
   "nbconvert_exporter": "python",
   "pygments_lexer": "ipython3",
   "version": "3.7.3"
  }
 },
 "nbformat": 4,
 "nbformat_minor": 2
}