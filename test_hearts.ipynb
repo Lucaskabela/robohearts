{
 "cells": [
  {
   "cell_type": "code",
   "execution_count": 15,
   "metadata": {},
   "outputs": [],
   "source": [
    "import gym\n",
    "import random\n",
    "from gymhearts import env as hearts_env\n",
    "from gymhearts import strategy"
   ]
  },
  {
   "cell_type": "code",
   "execution_count": 16,
   "metadata": {},
   "outputs": [],
   "source": [
    "class HelloStrategy(strategy.IStrategy):\n",
    "    def move(self, observation):\n",
    "        action = observation['valid_hand_cards'][0]\n",
    "        return action"
   ]
  },
  {
   "cell_type": "code",
   "execution_count": 17,
   "metadata": {},
   "outputs": [],
   "source": [
    "class RandoStrategy(strategy.IStrategy):\n",
    "    def move(self, observation):\n",
    "        action = random.choice(observation['valid_hand_cards'])\n",
    "        return action"
   ]
  },
  {
   "cell_type": "code",
   "execution_count": 18,
   "metadata": {},
   "outputs": [],
   "source": [
    "env = hearts_env.HeartsEnv()"
   ]
  },
  {
   "cell_type": "code",
   "execution_count": 19,
   "metadata": {},
   "outputs": [],
   "source": [
    "env.enable_shooting_the_moon()\n",
    "env.add_player(HelloStrategy())\n",
    "env.add_player(RandoStrategy())\n",
    "env.add_player(HelloStrategy())\n",
    "env.add_player(RandoStrategy())\n",
    "env.start()"
   ]
  },
  {
   "cell_type": "code",
   "execution_count": 20,
   "metadata": {},
   "outputs": [
    {
     "name": "stdout",
     "output_type": "stream",
     "text": [
      "--------GAME-------\n",
      "round: 1\n",
      "trick: 0\n",
      "heart broken: False\n",
      "-------PLAYER------\n",
      "player 0\n",
      "[2♠] [T♠] [J♠] [3♥] [4♥] [5♥] [7♥] [8♥] [2♦] [8♦] [T♦] [6♣] [8♣]\n",
      "score: 0\n",
      "player 1\n",
      "[8♠] [9♠] [Q♠] [T♥] [Q♥] [6♦] [J♦] [2♣] [T♣] [J♣] [Q♣] [K♣] [A♣]\n",
      "score: 0\n",
      "player 2\n",
      "[3♠] [5♠] [6♠] [7♠] [K♠] [A♠] [2♥] [K♥] [A♥] [3♦] [Q♦] [K♦] [5♣]\n",
      "score: 0\n",
      "player 3\n",
      "[4♠] [6♥] [9♥] [J♥] [4♦] [5♦] [7♦] [9♦] [A♦] [3♣] [4♣] [7♣] [9♣]\n",
      "score: 0\n",
      "--------BOARD-------\n",
      "[] [] [] []\n",
      "--------------------\n",
      "\n"
     ]
    }
   ],
   "source": [
    "env.render()"
   ]
  },
  {
   "cell_type": "code",
   "execution_count": 21,
   "metadata": {},
   "outputs": [
    {
     "data": {
      "text/plain": [
       "{'trick': 0,\n",
       " 'round': 1,\n",
       " 'number_of_players': 4,\n",
       " 'scores': [0, 0, 0, 0],\n",
       " 'playing_cards': [],\n",
       " 'playing_ids': [],\n",
       " 'hand_cards': [268471337,\n",
       "  134253349,\n",
       "  67144223,\n",
       "  1065995,\n",
       "  8394515,\n",
       "  16812055,\n",
       "  33573149,\n",
       "  4199953,\n",
       "  33589533,\n",
       "  16787479,\n",
       "  67115551,\n",
       "  98306,\n",
       "  67119647],\n",
       " 'current_player_id': 1,\n",
       " 'valid_hand_cards': [98306],\n",
       " 'number_of_hand_cards_for_all_players': [13, 13, 13, 13]}"
      ]
     },
     "execution_count": 21,
     "metadata": {},
     "output_type": "execute_result"
    }
   ],
   "source": [
    "observation = env.get_observation()\n",
    "observation"
   ]
  },
  {
   "cell_type": "code",
   "execution_count": 22,
   "metadata": {},
   "outputs": [
    {
     "name": "stdout",
     "output_type": "stream",
     "text": [
      "--------GAME-------\n",
      "round: 12\n",
      "trick: 13\n",
      "heart broken: True\n",
      "-------PLAYER------\n",
      "player 0\n",
      "\n",
      "score: 63\n",
      "player 1\n",
      "\n",
      "score: 118\n",
      "player 2\n",
      "\n",
      "score: 51\n",
      "player 3\n",
      "\n",
      "score: 80\n",
      "--------BOARD-------\n",
      "[3♠] [A♥] [8♠] [2♠]\n",
      "--------------------\n",
      "\n"
     ]
    }
   ],
   "source": [
    "done = False\n",
    "while not done:\n",
    "    action = env.move()\n",
    "    observation, reward, done, info = env.step(action)\n",
    "env.render()"
   ]
  },
  {
   "cell_type": "code",
   "execution_count": null,
   "metadata": {},
   "outputs": [],
   "source": []
  }
 ],
 "metadata": {
  "kernelspec": {
   "display_name": "Python 3",
   "language": "python",
   "name": "python3"
  },
  "language_info": {
   "codemirror_mode": {
    "name": "ipython",
    "version": 3
   },
   "file_extension": ".py",
   "mimetype": "text/x-python",
   "name": "python",
   "nbconvert_exporter": "python",
   "pygments_lexer": "ipython3",
   "version": "3.7.3"
  }
 },
 "nbformat": 4,
 "nbformat_minor": 2
}
