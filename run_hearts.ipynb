{
  "nbformat": 4,
  "nbformat_minor": 0,
  "metadata": {
    "kernelspec": {
      "display_name": "Python 3",
      "language": "python",
      "name": "python3"
    },
    "language_info": {
      "codemirror_mode": {
        "name": "ipython",
        "version": 3
      },
      "file_extension": ".py",
      "mimetype": "text/x-python",
      "name": "python",
      "nbconvert_exporter": "python",
      "pygments_lexer": "ipython3",
      "version": "3.7.3"
    },
    "colab": {
      "name": "test_hearts.ipynb",
      "provenance": [],
      "collapsed_sections": []
    }
  },
  "cells": [
    {
      "cell_type": "code",
      "execution_count": 0,
      "metadata": {
        "colab": {
          "base_uri": "https://localhost:8080/",
          "height": 34
        },
        "colab_type": "code",
        "id": "ZLX5bfvuvJBg",
        "outputId": "42c1792a-79f5-4ffb-8ce9-a78cac26fb62"
      },
      "outputs": [
        {
          "name": "stdout",
          "output_type": "stream",
          "text": [
            "/content/robohearts\n"
          ]
        }
      ],
      "source": [
        "# !unzip robohearts2.zip\n",
        "%cd robohearts/"
      ]
    },
    {
      "cell_type": "code",
      "execution_count": 0,
      "metadata": {
        "colab": {},
        "colab_type": "code",
        "id": "OmH_1vbdo9II"
      },
      "outputs": [],
      "source": [
        "import gym\n",
        "from gymhearts.Hearts import *\n",
        "from gymhearts.Agent.human import Human\n",
        "from gymhearts.Agent.random_agent import RandomAgent\n",
        "from gymhearts.Agent.monte_carlo import MonteCarlo"
      ]
    },
    {
      "cell_type": "code",
      "execution_count": 0,
      "metadata": {
        "colab": {},
        "colab_type": "code",
        "id": "D53gd2nUo-nk"
      },
      "outputs": [],
      "source": [
        "NUM_EPISODES = 10000\n",
        "MAX_SCORE = 100\n",
        "\n",
        "playersNameList = ['MonteCarlo', 'Rando', 'Randy', 'Randall']\n",
        "agent_list = [0, 0, 0, 0]\n",
        "\n",
        "# Monte Carlo vs Random\n",
        "agent_list[0] = MonteCarlo(playersNameList[0], {'print_info' : False})\n",
        "agent_list[1] = RandomAgent(playersNameList[1], {'print_info' : False})\n",
        "agent_list[2] = RandomAgent(playersNameList[2], {'print_info' : False})\n",
        "agent_list[3] = RandomAgent(playersNameList[3], {'print_info' : False})"
      ]
    },
    {
      "cell_type": "code",
      "execution_count": 0,
      "metadata": {
        "colab": {},
        "colab_type": "code",
        "id": "Qn-MK5D5pBUw"
      },
      "outputs": [],
      "source": [
        "%%capture\n",
        "env = gym.make('Hearts_Card_Game-v0')\n",
        "env.__init__(playersNameList, MAX_SCORE)\n",
        "num_won = 0\n",
        "for i_episode in range(NUM_EPISODES):\n",
        "    \n",
        "    observation = env.reset()\n",
        "    history = []\n",
        "    while True:\n",
        "        # env.render()\n",
        "\n",
        "        now_event = observation['event_name']\n",
        "        IsBroadcast = observation['broadcast']\n",
        "        action = None\n",
        "        if IsBroadcast == True:\n",
        "            for agent in agent_list:\n",
        "                agent.Do_Action(observation)\n",
        "        else:\n",
        "            playName = observation['data']['playerName']\n",
        "            for agent in agent_list:\n",
        "                if agent.name == playName:\n",
        "                    action = agent.Do_Action(observation)\n",
        "        if now_event == 'RoundEnd':\n",
        "            agent_list[0].update_reward_fn(history, -reward['MonteCarlo'])\n",
        "            history = []\n",
        "            print(agent_list[0].weight_vec)\n",
        "        if now_event == 'GameOver':\n",
        "            # print('\\nGame Over!!\\n')\n",
        "            num_won += int(observation['data']['Winner'] == 'MonteCarlo')\n",
        "            break\n",
        "            \n",
        "        observation2, reward, done, info = env.step(action)\n",
        "        if not IsBroadcast and observation['data']['playerName'] == 'MonteCarlo':\n",
        "            history.append(observation)\n",
        "        observation = observation2\n",
        "\n",
        "print(\"MonteCarlo won: \" + str(num_won) + \" times\")"
      ]
    },
    {
      "cell_type": "code",
      "execution_count": 5,
      "metadata": {
        "colab": {
          "base_uri": "https://localhost:8080/",
          "height": 34
        },
        "colab_type": "code",
        "id": "3kXj1tPLnR7F",
        "outputId": "68fec8f7-1d64-4d15-bcc3-7b979d093f32"
      },
      "outputs": [
        {
          "name": "stdout",
          "output_type": "stream",
          "text": [
            "MC won: 2692 times\n"
          ]
        }
      ],
      "source": [
        "print(\"MonteCarlo won: \" + str(num_won) + \" times\")"
      ]
    }
  ]
}