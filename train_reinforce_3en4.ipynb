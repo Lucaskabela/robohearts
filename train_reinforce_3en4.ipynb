{
 "cells": [
  {
   "cell_type": "code",
   "execution_count": 1,
   "metadata": {
    "colab": {},
    "colab_type": "code",
    "id": "ZLX5bfvuvJBg"
   },
   "outputs": [],
   "source": [
    "# !unzip gymhearts.zip\n",
    "# %cd robohearts/"
   ]
  },
  {
   "cell_type": "code",
   "execution_count": 2,
   "metadata": {
    "colab": {},
    "colab_type": "code",
    "id": "LQFmIAWEj30z"
   },
   "outputs": [],
   "source": [
    "import gym\n",
    "import numpy\n",
    "import multiprocessing\n",
    "from gymhearts.Hearts import *\n",
    "from gymhearts.Agent.agent_random import RandomAgent\n",
    "from gymhearts.Agent.agent_reinforce import REINFORCE_Agent\n",
    "from gymhearts.Agent.utils_env import *\n",
    "from gymhearts.Agent.utils_nn import *\n",
    "from tqdm import tqdm_notebook\n",
    "from copy import deepcopy"
   ]
  },
  {
   "cell_type": "code",
   "execution_count": 3,
   "metadata": {
    "colab": {},
    "colab_type": "code",
    "id": "xsPqUNz_j307"
   },
   "outputs": [],
   "source": [
    "# ----------- TRAINING CONFIGURATION -------------\n",
    "# Number of games to train on \n",
    "TRAINING_ITERS = 100\n",
    "\n",
    "# Number of episodes to run during model evaluation\n",
    "NUM_EPISODES = 1000\n",
    "\n",
    "# Number of model evaluations to average together\n",
    "NUM_TESTS = 10\n",
    "\n",
    "# Max score for players to win the game\n",
    "MAX_SCORE = 100\n",
    "\n",
    "# Batch size for performing updates\n",
    "BATCH_SIZE = 16\n",
    "\n",
    "# Set to false to skip training\n",
    "run_train = True\n",
    "\n",
    "# Set to true to resume training from an existing model\n",
    "continue_train = False\n",
    "\n",
    "# Run testing on a random agent for comparison\n",
    "run_random = False\n",
    "\n",
    "# Features to include in model :: [in_hand, in_play, played_cards, won_cards, scores]\n",
    "feature_list = ['in_hand', 'in_play']\n",
    "\n",
    "# Name of the file that is saved :: {model_name}_pi.th, {model_name}_v.th\n",
    "model_name = 'alpha_3en4'\n",
    "\n",
    "# Configuration parameters for the model\n",
    "reinforce_config = {\n",
    "    'print_info' : False,\n",
    "    'epsilon' : .01,\n",
    "    'gamma' : 1,\n",
    "    'alpha': 3e-4,\n",
    "    'feature_list' : feature_list,\n",
    "}\n",
    "\n",
    "if continue_train:\n",
    "    reinforce_config['load_model'] = model_name\n",
    "\n",
    "playersNameList = ['REINFORCE', 'Rando', 'Randy', 'Randall']\n",
    "agent_list = [0, 0, 0, 0]\n",
    "\n",
    "agent_list[0] = REINFORCE_Agent(playersNameList[0], reinforce_config)\n",
    "agent_list[1] = RandomAgent(playersNameList[1], {'print_info' : False})\n",
    "agent_list[2] = RandomAgent(playersNameList[2], {'print_info' : False})\n",
    "agent_list[3] = RandomAgent(playersNameList[3], {'print_info' : False})"
   ]
  },
  {
   "cell_type": "code",
   "execution_count": 4,
   "metadata": {
    "colab": {},
    "colab_type": "code",
    "id": "Pt8mEPEQj31D"
   },
   "outputs": [
    {
     "data": {
      "application/vnd.jupyter.widget-view+json": {
       "model_id": "3b78a93da29f4b90b8f8b5d016264ddb",
       "version_major": 2,
       "version_minor": 0
      },
      "text/plain": [
       "HBox(children=(IntProgress(value=0), HTML(value='')))"
      ]
     },
     "metadata": {},
     "output_type": "display_data"
    },
    {
     "name": "stdout",
     "output_type": "stream",
     "text": [
      "WARNING: Numeric instability\n"
     ]
    },
    {
     "ename": "AttributeError",
     "evalue": "'int' object has no attribute 'sum'",
     "output_type": "error",
     "traceback": [
      "\u001b[0;31m---------------------------------------------------------------------------\u001b[0m",
      "\u001b[0;31mAttributeError\u001b[0m                            Traceback (most recent call last)",
      "\u001b[0;32m<ipython-input-4-9257d6645a5e>\u001b[0m in \u001b[0;36m<module>\u001b[0;34m\u001b[0m\n\u001b[1;32m     42\u001b[0m \u001b[0;34m\u001b[0m\u001b[0m\n\u001b[1;32m     43\u001b[0m                 \u001b[0mobservation\u001b[0m \u001b[0;34m=\u001b[0m \u001b[0mobservation_prime\u001b[0m\u001b[0;34m\u001b[0m\u001b[0;34m\u001b[0m\u001b[0m\n\u001b[0;32m---> 44\u001b[0;31m         \u001b[0mreturns\u001b[0m\u001b[0;34m.\u001b[0m\u001b[0mappend\u001b[0m\u001b[0;34m(\u001b[0m\u001b[0magent_list\u001b[0m\u001b[0;34m[\u001b[0m\u001b[0;36m0\u001b[0m\u001b[0;34m]\u001b[0m\u001b[0;34m.\u001b[0m\u001b[0mupdate\u001b[0m\u001b[0;34m(\u001b[0m\u001b[0mbatch\u001b[0m\u001b[0;34m)\u001b[0m\u001b[0;34m)\u001b[0m\u001b[0;34m\u001b[0m\u001b[0;34m\u001b[0m\u001b[0m\n\u001b[0m\u001b[1;32m     45\u001b[0m \u001b[0;34m\u001b[0m\u001b[0m\n\u001b[1;32m     46\u001b[0m     \u001b[0msave_model\u001b[0m\u001b[0;34m(\u001b[0m\u001b[0magent_list\u001b[0m\u001b[0;34m[\u001b[0m\u001b[0;36m0\u001b[0m\u001b[0;34m]\u001b[0m\u001b[0;34m.\u001b[0m\u001b[0mbaseline\u001b[0m\u001b[0;34m.\u001b[0m\u001b[0mnn\u001b[0m\u001b[0;34m,\u001b[0m \u001b[0mmodel_name\u001b[0m\u001b[0;34m,\u001b[0m \u001b[0;34m'reinforce'\u001b[0m\u001b[0;34m,\u001b[0m \u001b[0magent_list\u001b[0m\u001b[0;34m[\u001b[0m\u001b[0;36m0\u001b[0m\u001b[0;34m]\u001b[0m\u001b[0;34m.\u001b[0m\u001b[0mpi\u001b[0m\u001b[0;34m.\u001b[0m\u001b[0mnn\u001b[0m\u001b[0;34m)\u001b[0m\u001b[0;34m\u001b[0m\u001b[0;34m\u001b[0m\u001b[0m\n",
      "\u001b[0;32m~/repos/robohearts/gymhearts/Agent/agent_reinforce.py\u001b[0m in \u001b[0;36mupdate\u001b[0;34m(self, batch)\u001b[0m\n\u001b[1;32m    114\u001b[0m                 \u001b[0maction\u001b[0m \u001b[0;34m=\u001b[0m \u001b[0mself\u001b[0m\u001b[0;34m.\u001b[0m\u001b[0mdeck_reference\u001b[0m\u001b[0;34m[\u001b[0m\u001b[0maction\u001b[0m\u001b[0;34m[\u001b[0m\u001b[0;34m'data'\u001b[0m\u001b[0;34m]\u001b[0m\u001b[0;34m[\u001b[0m\u001b[0;34m'action'\u001b[0m\u001b[0;34m]\u001b[0m\u001b[0;34m[\u001b[0m\u001b[0;34m'card'\u001b[0m\u001b[0;34m]\u001b[0m\u001b[0;34m]\u001b[0m\u001b[0;34m\u001b[0m\u001b[0;34m\u001b[0m\u001b[0m\n\u001b[1;32m    115\u001b[0m                 \u001b[0mself\u001b[0m\u001b[0;34m.\u001b[0m\u001b[0mbaseline\u001b[0m\u001b[0;34m.\u001b[0m\u001b[0mupdate\u001b[0m\u001b[0;34m(\u001b[0m\u001b[0mstate_features\u001b[0m\u001b[0;34m,\u001b[0m \u001b[0mG\u001b[0m\u001b[0;34m)\u001b[0m\u001b[0;34m\u001b[0m\u001b[0;34m\u001b[0m\u001b[0m\n\u001b[0;32m--> 116\u001b[0;31m                 \u001b[0mself\u001b[0m\u001b[0;34m.\u001b[0m\u001b[0mpi\u001b[0m\u001b[0;34m.\u001b[0m\u001b[0mreinforce_update\u001b[0m\u001b[0;34m(\u001b[0m\u001b[0mstate_features\u001b[0m\u001b[0;34m,\u001b[0m \u001b[0maction\u001b[0m\u001b[0;34m,\u001b[0m \u001b[0;34m(\u001b[0m\u001b[0mself\u001b[0m\u001b[0;34m.\u001b[0m\u001b[0mGAMMA\u001b[0m\u001b[0;34m**\u001b[0m\u001b[0mt\u001b[0m\u001b[0;34m)\u001b[0m\u001b[0;34m,\u001b[0m \u001b[0mdelta\u001b[0m\u001b[0;34m,\u001b[0m \u001b[0mvalid_features\u001b[0m\u001b[0;34m)\u001b[0m\u001b[0;34m\u001b[0m\u001b[0;34m\u001b[0m\u001b[0m\n\u001b[0m\u001b[1;32m    117\u001b[0m                 \u001b[0mG\u001b[0m \u001b[0;34m*=\u001b[0m \u001b[0mself\u001b[0m\u001b[0;34m.\u001b[0m\u001b[0mGAMMA\u001b[0m\u001b[0;34m\u001b[0m\u001b[0;34m\u001b[0m\u001b[0m\n\u001b[1;32m    118\u001b[0m             \u001b[0mG_list\u001b[0m\u001b[0;34m.\u001b[0m\u001b[0mappend\u001b[0m\u001b[0;34m(\u001b[0m\u001b[0mG\u001b[0m\u001b[0;34m)\u001b[0m\u001b[0;34m\u001b[0m\u001b[0;34m\u001b[0m\u001b[0m\n",
      "\u001b[0;32m~/repos/robohearts/gymhearts/Agent/utils_nn.py\u001b[0m in \u001b[0;36mreinforce_update\u001b[0;34m(self, state_features, action, gamma_t, delta, valid_features)\u001b[0m\n\u001b[1;32m     84\u001b[0m         \u001b[0mprobs\u001b[0m \u001b[0;34m=\u001b[0m \u001b[0mself\u001b[0m\u001b[0;34m.\u001b[0m\u001b[0maction_probs\u001b[0m\u001b[0;34m(\u001b[0m\u001b[0mstate_features\u001b[0m\u001b[0;34m,\u001b[0m \u001b[0mvalid_features\u001b[0m\u001b[0;34m)\u001b[0m\u001b[0;34m\u001b[0m\u001b[0;34m\u001b[0m\u001b[0m\n\u001b[1;32m     85\u001b[0m         \u001b[0mself\u001b[0m\u001b[0;34m.\u001b[0m\u001b[0mnn\u001b[0m\u001b[0;34m.\u001b[0m\u001b[0mtrain\u001b[0m\u001b[0;34m(\u001b[0m\u001b[0;34m)\u001b[0m\u001b[0;34m\u001b[0m\u001b[0;34m\u001b[0m\u001b[0m\n\u001b[0;32m---> 86\u001b[0;31m         \u001b[0;32mif\u001b[0m \u001b[0mmath\u001b[0m\u001b[0;34m.\u001b[0m\u001b[0misnan\u001b[0m\u001b[0;34m(\u001b[0m\u001b[0mprobs\u001b[0m\u001b[0;34m.\u001b[0m\u001b[0msum\u001b[0m\u001b[0;34m(\u001b[0m\u001b[0;34m)\u001b[0m\u001b[0;34m.\u001b[0m\u001b[0mitem\u001b[0m\u001b[0;34m(\u001b[0m\u001b[0;34m)\u001b[0m\u001b[0;34m)\u001b[0m \u001b[0;32mor\u001b[0m \u001b[0mprobs\u001b[0m\u001b[0;34m.\u001b[0m\u001b[0msum\u001b[0m\u001b[0;34m(\u001b[0m\u001b[0;34m)\u001b[0m \u001b[0;34m==\u001b[0m \u001b[0;36m0\u001b[0m\u001b[0;34m:\u001b[0m\u001b[0;34m\u001b[0m\u001b[0;34m\u001b[0m\u001b[0m\n\u001b[0m\u001b[1;32m     87\u001b[0m             \u001b[0mprint\u001b[0m\u001b[0;34m(\u001b[0m\u001b[0;34m\"WARNING: Numeric instability\"\u001b[0m\u001b[0;34m)\u001b[0m\u001b[0;34m\u001b[0m\u001b[0;34m\u001b[0m\u001b[0m\n\u001b[1;32m     88\u001b[0m             \u001b[0;32mreturn\u001b[0m\u001b[0;34m\u001b[0m\u001b[0;34m\u001b[0m\u001b[0m\n",
      "\u001b[0;31mAttributeError\u001b[0m: 'int' object has no attribute 'sum'"
     ]
    }
   ],
   "source": [
    "# ---------- TRAIN REINFORCE AGENT ------------\n",
    "env = gym.make('Hearts_Card_Game-v0')\n",
    "env.__init__(playersNameList, MAX_SCORE)\n",
    "if run_train:\n",
    "    returns = []\n",
    "    for trn_episode in tqdm_notebook(range(TRAINING_ITERS)):\n",
    "         # Save the model every 50 steps\n",
    "        if trn_episode % 10 == 0:\n",
    "            save_model(agent_list[0].baseline.nn, model_name, 'reinforce', agent_list[0].pi.nn)\n",
    "        batch = []\n",
    "        for i in range(BATCH_SIZE):\n",
    "            observation = env.reset()\n",
    "            episode_history = []\n",
    "            while True:\n",
    "                #env.render()\n",
    "                now_event = observation['event_name']\n",
    "                IsBroadcast = observation['broadcast']\n",
    "                \n",
    "                if now_event == 'RoundEnd' and len(episode_history) > 0:\n",
    "                    # Add episode info and return to batch\n",
    "                    batch.append((deepcopy(episode_history), -reward['REINFORCE']))\n",
    "                    episode_history = []\n",
    "                    \n",
    "                if now_event == 'GameOver':\n",
    "                    break\n",
    "\n",
    "                action = None\n",
    "                if IsBroadcast == True:\n",
    "                    for agent in agent_list:\n",
    "                        agent.Do_Action(observation)\n",
    "                else:\n",
    "                    playName = observation['data']['playerName']\n",
    "                    for agent in agent_list:\n",
    "                        if agent.name == playName:\n",
    "                            action = agent.Do_Action(observation)\n",
    "\n",
    "                observation_prime, reward, done, info = env.step(action)\n",
    "                \n",
    "                if observation['event_name'] == 'PlayTrick' and observation['data']['playerName'] == 'REINFORCE':\n",
    "                    state_features, valid_features = agent_list[0].generate_features(observation)\n",
    "                    episode_history.append((state_features, valid_features, action))\n",
    "                    \n",
    "                observation = observation_prime\n",
    "        returns.append(agent_list[0].update(batch))\n",
    "        \n",
    "    save_model(agent_list[0].baseline.nn, model_name, 'reinforce', agent_list[0].pi.nn)\n",
    "    #avg_returns = numpy.array(returns)\n",
    "    #numpy.savetxt('reinforce.txt', avg_returns)\\n\""
   ]
  },
  {
   "cell_type": "code",
   "execution_count": null,
   "metadata": {
    "colab": {},
    "colab_type": "code",
    "id": "ZX6qQi9blVFk"
   },
   "outputs": [],
   "source": [
    "# Function to test reinforce model with multiprocessing\n",
    "def run_test(num_won):\n",
    "    # Weird hack to make progress bars render properly\n",
    "    print(' ', end='', flush=True)\n",
    "    for i_ep in tqdm_notebook(range(NUM_EPISODES)):\n",
    "        observation = env.reset()\n",
    "        while True:\n",
    "            now_event = observation['event_name']\n",
    "            IsBroadcast = observation['broadcast']\n",
    "            action = None\n",
    "            if IsBroadcast == True:\n",
    "                for agent in agent_list:\n",
    "                    agent.Do_Action(observation)\n",
    "            else:\n",
    "                playName = observation['data']['playerName']\n",
    "                for agent in agent_list:\n",
    "                    if agent.name == playName:\n",
    "                        action = agent.Do_Action(observation)\n",
    "            if now_event == 'GameOver':\n",
    "                num_won += int(observation['data']['Winner'] == 'REINFORCE')\n",
    "                break\n",
    "            observation, reward, done, info = env.step(action)\n",
    "    return num_won"
   ]
  },
  {
   "cell_type": "code",
   "execution_count": null,
   "metadata": {
    "colab": {},
    "colab_type": "code",
    "id": "Qn-MK5D5pBUw"
   },
   "outputs": [],
   "source": [
    "# ----------- EVALUATE REINFORCE AGENT ---------------\n",
    "\n",
    "env = gym.make('Hearts_Card_Game-v0')\n",
    "env.__init__(playersNameList, MAX_SCORE)\n",
    "\n",
    "# Evaluation parameters for testing\n",
    "reinforce_config = {\n",
    "    'print_info' : False,\n",
    "    'load_model' : model_name,\n",
    "    'feature_list' : feature_list\n",
    "}\n",
    "\n",
    "agent_list[0] = REINFORCE_Agent(playersNameList[0], reinforce_config)\n",
    "reinforce_wins = [0] * NUM_TESTS\n",
    "\n",
    "pool = multiprocessing.Pool(processes=NUM_TESTS)\n",
    "reinforce_wins = pool.map(run_test, reinforce_wins)\n",
    "print(reinforce_wins)\n",
    "pool.close()\n",
    "pool.join()"
   ]
  },
  {
   "cell_type": "code",
   "execution_count": null,
   "metadata": {
    "colab": {},
    "colab_type": "code",
    "id": "7y1WTLbOEYw-"
   },
   "outputs": [],
   "source": [
    "# Function to test random model with multiprocessing\n",
    "def run_test_random(num_won):\n",
    "    # Weird hack to make progress bars render properly\n",
    "    print(' ', end='', flush=True)\n",
    "    for i_ep in tqdm_notebook(range(NUM_EPISODES)):\n",
    "        observation = env.reset()\n",
    "        while True:\n",
    "            now_event = observation['event_name']\n",
    "            IsBroadcast = observation['broadcast']\n",
    "            action = None\n",
    "            if IsBroadcast == True:\n",
    "                for agent in agent_list:\n",
    "                    agent.Do_Action(observation)\n",
    "            else:\n",
    "                playName = observation['data']['playerName']\n",
    "                for agent in agent_list:\n",
    "                    if agent.name == playName:\n",
    "                        action = agent.Do_Action(observation)\n",
    "            if now_event == 'GameOver':\n",
    "                num_won += int(observation['data']['Winner'] == 'Randman')\n",
    "                break\n",
    "            observation, reward, done, info = env.step(action)\n",
    "    return num_won"
   ]
  },
  {
   "cell_type": "code",
   "execution_count": null,
   "metadata": {
    "colab": {},
    "colab_type": "code",
    "id": "-b3qOJsbh9pf"
   },
   "outputs": [],
   "source": [
    "# ----------- EVALUTATE RANDOM AGENT ---------------\n",
    "if run_random:\n",
    "    env = gym.make('Hearts_Card_Game-v0')\n",
    "    env.__init__(playersNameList, MAX_SCORE)\n",
    "    playersNameList[0] = 'Randman'\n",
    "    agent_list[0] = RandomAgent(playersNameList[0])\n",
    "    rand_wins = [0] * NUM_TESTS\n",
    "    pool = multiprocessing.Pool(processes=NUM_TESTS)\n",
    "    rand_wins = pool.map(run_test_random, rand_wins)\n",
    "    print(rand_wins)\n",
    "    pool.close()\n",
    "    pool.join()"
   ]
  },
  {
   "cell_type": "code",
   "execution_count": null,
   "metadata": {
    "colab": {},
    "colab_type": "code",
    "id": "3kXj1tPLnR7F"
   },
   "outputs": [],
   "source": [
    "print(f\"REINFORCE won {sum(reinforce_wins)/len(reinforce_wins)} times on average :: {str(reinforce_wins)}\")\n",
    "for wins in reinforce_wins:\n",
    "    print(wins)\n",
    "if run_random:\n",
    "    print(f\"Random won {sum(rand_wins)/len(rand_wins)} times on average :: {str(rand_wins)}\")"
   ]
  }
 ],
 "metadata": {
  "colab": {
   "collapsed_sections": [],
   "name": "reinforce.ipynb",
   "provenance": []
  },
  "kernelspec": {
   "display_name": "Python 3",
   "language": "python",
   "name": "python3"
  },
  "language_info": {
   "codemirror_mode": {
    "name": "ipython",
    "version": 3
   },
   "file_extension": ".py",
   "mimetype": "text/x-python",
   "name": "python",
   "nbconvert_exporter": "python",
   "pygments_lexer": "ipython3",
   "version": "3.7.3"
  }
 },
 "nbformat": 4,
 "nbformat_minor": 1
}
