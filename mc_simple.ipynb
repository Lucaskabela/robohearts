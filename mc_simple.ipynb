{
  "nbformat": 4,
  "nbformat_minor": 0,
  "metadata": {
    "kernelspec": {
      "display_name": "Python 3",
      "language": "python",
      "name": "python3"
    },
    "language_info": {
      "codemirror_mode": {
        "name": "ipython",
        "version": 3
      },
      "file_extension": ".py",
      "mimetype": "text/x-python",
      "name": "python",
      "nbconvert_exporter": "python",
      "pygments_lexer": "ipython3",
      "version": "3.7.3"
    },
    "colab": {
      "name": "mc_simple.ipynb",
      "provenance": [],
      "collapsed_sections": []
    }
  },
  "cells": [
    {
      "cell_type": "code",
      "metadata": {
        "id": "ZLX5bfvuvJBg",
        "colab_type": "code",
        "outputId": "32dd529d-e2fd-48a7-b93c-ea2effb9af12",
        "colab": {
          "base_uri": "https://localhost:8080/",
          "height": 34
        }
      },
      "source": [
        "#!unzip robohearts.zip\n",
        "%cd robohearts/"
      ],
      "execution_count": 1,
      "outputs": [
        {
          "output_type": "stream",
          "text": [
            "/content/robohearts\n"
          ],
          "name": "stdout"
        }
      ]
    },
    {
      "cell_type": "code",
      "metadata": {
        "id": "OmH_1vbdo9II",
        "colab_type": "code",
        "colab": {}
      },
      "source": [
        "import gym\n",
        "from gymhearts.Hearts import *\n",
        "from mc import MC\n",
        "from gymhearts.Agent.human import Human\n",
        "from gymhearts.Agent.randomAI import RandomAI"
      ],
      "execution_count": 0,
      "outputs": []
    },
    {
      "cell_type": "code",
      "metadata": {
        "id": "D53gd2nUo-nk",
        "colab_type": "code",
        "colab": {}
      },
      "source": [
        "NUM_ITERS = 10\n",
        "NUM_EPISODES = 1000\n",
        "TRAINING_ITERS = 10000\n",
        "MAX_SCORE = 100\n",
        "playersNameList = ['MC', 'Rando', 'Megumin', 'Darkness']\n",
        "agent_list = [0, 0, 0, 0]\n",
        "\n",
        "# Human vs Random\n",
        "agent_list[0] = MC(playersNameList[0])\n",
        "agent_list[1] = RandomAI(playersNameList[1])\n",
        "agent_list[2] = RandomAI(playersNameList[2])\n",
        "agent_list[3] = RandomAI(playersNameList[3])"
      ],
      "execution_count": 0,
      "outputs": []
    },
    {
      "cell_type": "code",
      "metadata": {
        "id": "vrNib0MfgNzm",
        "colab_type": "code",
        "colab": {}
      },
      "source": [
        "%%capture \n",
        "# who cares about output in training\n",
        "env = gym.make('Hearts_Card_Game-v0')\n",
        "env.__init__(playersNameList, MAX_SCORE)\n",
        "weights = []\n",
        "for trn_episode in range(TRAINING_ITERS):\n",
        "    observation = env.reset()\n",
        "    history = []\n",
        "    while True:\n",
        "        now_event = observation['event_name']\n",
        "        IsBroadcast = observation['broadcast']\n",
        "        action = None\n",
        "        if IsBroadcast == True:\n",
        "            for agent in agent_list:\n",
        "                agent.Do_Action(observation)\n",
        "        else:\n",
        "            playName = observation['data']['playerName']\n",
        "            for agent in agent_list:\n",
        "                if agent.name == playName:\n",
        "                    action = agent.Do_Action(observation)\n",
        "\n",
        "        # update my agent\n",
        "        if now_event == 'RoundEnd':\n",
        "            agent_list[0].update_reward_fn(history, -reward['MC'])\n",
        "            history = []\n",
        "            weights = agent_list[0].weight_vec\n",
        "        if now_event == 'GameOver':\n",
        "              break     \n",
        "        observation2, reward, done, info = env.step(action)\n",
        "        if not IsBroadcast and observation['data']['playerName'] == 'MC':\n",
        "            history.append(observation)\n",
        "        observation = observation2\n"
      ],
      "execution_count": 0,
      "outputs": []
    },
    {
      "cell_type": "code",
      "metadata": {
        "id": "Qn-MK5D5pBUw",
        "colab_type": "code",
        "colab": {}
      },
      "source": [
        "%%capture\n",
        "# Evaluate the MC!\n",
        "env = gym.make('Hearts_Card_Game-v0')\n",
        "env.__init__(playersNameList, MAX_SCORE)\n",
        "agent_list[0] = MC(playersNameList[0], params={'weights' : weights})\n",
        "mc_wins = []\n",
        "for i in range(NUM_ITERS):\n",
        "  num_won = 0\n",
        "  for i_episode in range(NUM_EPISODES):\n",
        "      observation = env.reset()\n",
        "      while True:\n",
        "          now_event = observation['event_name']\n",
        "          IsBroadcast = observation['broadcast']\n",
        "          action = None\n",
        "          if IsBroadcast == True:\n",
        "              for agent in agent_list:\n",
        "                  agent.Do_Action(observation)\n",
        "          else:\n",
        "              playName = observation['data']['playerName']\n",
        "              for agent in agent_list:\n",
        "                  if agent.name == playName:\n",
        "                      action = agent.Do_Action(observation)\n",
        "          if now_event == 'GameOver':\n",
        "              num_won += int(observation['data']['Winner'] == 'MC')\n",
        "              break\n",
        "  mc_wins.append(num_won)"
      ],
      "execution_count": 0,
      "outputs": []
    },
    {
      "cell_type": "code",
      "metadata": {
        "id": "-b3qOJsbh9pf",
        "colab_type": "code",
        "colab": {}
      },
      "source": [
        "%%capture\n",
        "# Evaluate the Random!\n",
        "env = gym.make('Hearts_Card_Game-v0')\n",
        "env.__init__(playersNameList, MAX_SCORE)\n",
        "agent_list[0] = RandomAI(playersNameList[0])\n",
        "rand_wins = []\n",
        "for i in range(NUM_ITERS):\n",
        "  num_won = 0\n",
        "  for i_episode in range(NUM_EPISODES):\n",
        "      observation = env.reset()\n",
        "      while True:\n",
        "          now_event = observation['event_name']\n",
        "          IsBroadcast = observation['broadcast']\n",
        "          action = None\n",
        "          if IsBroadcast == True:\n",
        "              for agent in agent_list:\n",
        "                  agent.Do_Action(observation)\n",
        "          else:\n",
        "              playName = observation['data']['playerName']\n",
        "              for agent in agent_list:\n",
        "                  if agent.name == playName:\n",
        "                      action = agent.Do_Action(observation)\n",
        "          if now_event == 'GameOver':\n",
        "              num_won += int(observation['data']['Winner'] == 'MC')\n",
        "              break\n",
        "  rand_wins.append(num_won)"
      ],
      "execution_count": 0,
      "outputs": []
    },
    {
      "cell_type": "code",
      "metadata": {
        "id": "3kXj1tPLnR7F",
        "colab_type": "code",
        "colab": {}
      },
      "source": [
        "print(\"The weights are: \" + str(weights))\n",
        "print(\"MC won: \" + str(mc_wins) + \" times\")\n",
        "print(\"Rand won: \" + str(rand_wins) + \" times\")"
      ],
      "execution_count": 0,
      "outputs": []
    }
  ]
}