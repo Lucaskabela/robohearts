{
  "nbformat": 4,
  "nbformat_minor": 0,
  "metadata": {
    "kernelspec": {
      "display_name": "Python 3",
      "language": "python",
      "name": "python3"
    },
    "language_info": {
      "codemirror_mode": {
        "name": "ipython",
        "version": 3
      },
      "file_extension": ".py",
      "mimetype": "text/x-python",
      "name": "python",
      "nbconvert_exporter": "python",
      "pygments_lexer": "ipython3",
      "version": "3.7.3"
    },
    "colab": {
      "name": "mc_simple.ipynb",
      "provenance": [],
      "collapsed_sections": []
    }
  },
  "cells": [
    {
      "cell_type": "code",
      "execution_count": 1,
      "metadata": {
        "colab": {
          "base_uri": "https://localhost:8080/",
          "height": 34
        },
        "colab_type": "code",
        "id": "ZLX5bfvuvJBg",
        "outputId": "549b447d-bf92-4e93-bfda-6edbbe2c6ff8"
      },
      "outputs": [
        {
          "name": "stdout",
          "output_type": "stream",
          "text": [
            "/content/robohearts\n"
          ]
        }
      ],
      "source": [
        "# !unzip robohearts.zip\n",
        "%cd robohearts/"
      ]
    },
    {
      "cell_type": "code",
      "execution_count": 0,
      "metadata": {
        "colab": {},
        "colab_type": "code",
        "id": "OmH_1vbdo9II"
      },
      "outputs": [],
      "source": [
        "import gym\n",
        "from gymhearts.Hearts import *\n",
        "from gymhearts.Agent.human import Human\n",
        "from gymhearts.Agent.random_agent import RandomAgent\n",
        "from gymhearts.Agent.monte_carlo import MonteCarlo"
      ]
    },
    {
      "cell_type": "code",
      "execution_count": 0,
      "metadata": {
        "colab": {},
        "colab_type": "code",
        "id": "D53gd2nUo-nk"
      },
      "outputs": [],
      "source": [
        "NUM_ITERS = 10\n",
        "NUM_EPISODES = 1000\n",
        "TRAINING_ITERS = 10000\n",
        "MAX_SCORE = 100\n",
        "playersNameList = ['MonteCarlo', 'Rando', 'Randy', 'Randall']\n",
        "agent_list = [0, 0, 0, 0]\n",
        "\n",
        "# Human vs Random\n",
        "agent_list[0] = MonteCarlo(playersNameList[0])\n",
        "agent_list[1] = RandomAI(playersNameList[1])\n",
        "agent_list[2] = RandomAI(playersNameList[2])\n",
        "agent_list[3] = RandomAI(playersNameList[3])"
      ]
    },
    {
      "cell_type": "code",
      "execution_count": 0,
      "metadata": {
        "colab": {},
        "colab_type": "code",
        "id": "vrNib0MfgNzm"
      },
      "outputs": [],
      "source": [
        "%%capture \n",
        "# who cares about output in training\n",
        "env = gym.make('Hearts_Card_Game-v0')\n",
        "env.__init__(playersNameList, MAX_SCORE)\n",
        "weights = []\n",
        "for trn_episode in range(TRAINING_ITERS):\n",
        "    observation = env.reset()\n",
        "    history = []\n",
        "    while True:\n",
        "        now_event = observation['event_name']\n",
        "        IsBroadcast = observation['broadcast']\n",
        "        action = None\n",
        "        if IsBroadcast == True:\n",
        "            for agent in agent_list:\n",
        "                agent.Do_Action(observation)\n",
        "        else:\n",
        "            playName = observation['data']['playerName']\n",
        "            for agent in agent_list:\n",
        "                if agent.name == playName:\n",
        "                    action = agent.Do_Action(observation)\n",
        "\n",
        "        # update my agent\n",
        "        if now_event == 'RoundEnd':\n",
        "            agent_list[0].update_reward_fn(history, -reward['MonteCarlo'])\n",
        "            history = []\n",
        "            weights = agent_list[0].weight_vec\n",
        "        if now_event == 'GameOver':\n",
        "              break     \n",
        "        observation2, reward, done, info = env.step(action)\n",
        "        if not IsBroadcast and observation['data']['playerName'] == 'MonteCarlo':\n",
        "            history.append(observation)\n",
        "        observation = observation2\n"
      ]
    },
    {
      "cell_type": "code",
      "execution_count": 5,
      "metadata": {
        "colab": {
          "base_uri": "https://localhost:8080/",
          "height": 185
        },
        "colab_type": "code",
        "id": "Qn-MK5D5pBUw",
        "outputId": "2d5fa5ed-87d6-4c10-aaf7-cb7e6e5883c1"
      },
      "outputs": [
        {
          "name": "stdout",
          "output_type": "stream",
          "text": [
            "Finished iter: 0\n",
            "Finished iter: 1\n",
            "Finished iter: 2\n",
            "Finished iter: 3\n",
            "Finished iter: 4\n",
            "Finished iter: 5\n",
            "Finished iter: 6\n",
            "Finished iter: 7\n",
            "Finished iter: 8\n",
            "Finished iter: 9\n"
          ]
        }
      ],
      "source": [
        "# Evaluate the MC! Comment this line in for pretrained\n",
        "# weights = [ [-0.46031637, -1.02296217, -1.64597146, 0.50871499, 0.05907032, -0.04527117,\n",
        "# -2.67590788, -1.78400492, -0.08667306, 0.48108891, 0.66066313, -1.57675411,\n",
        "# -0.56494518, -0.07736412, -0.3257198, -0.65003209, -0.63740714, 0.44494984,\n",
        "# -0.1545964, 0.67457139, 2.31472314, 0.8694452, -2.29173301, 0.52783125,\n",
        "# -0.86950875, -1.77655688, -3.29970913, -0.242993, -1.57548922, -1.34238258,\n",
        "# 0.36816378, -3.23065985, -0.07919411, -2.1089143, -3.12815169, -0.74580836,\n",
        "# 0.98398675, -0.75271283, -0.81051661, -0.60567687, -3.42010519, -0.63186969,\n",
        "# -2.02352157, -0.27534069, -0.28736574, -1.15836776, -3.28679005, -0.33767846,\n",
        "# -0.41568405, 0.2782292, -1.23761129, -1.80559854]\n",
        "env = gym.make('Hearts_Card_Game-v0')\n",
        "env.__init__(playersNameList, MAX_SCORE)\n",
        "agent_list[0] = MonteCarlo(playersNameList[0], params={'weight_vec' : weights})\n",
        "mc_wins = []\n",
        "for i in range(NUM_ITERS):\n",
        "  num_won = 0\n",
        "  for i_episode in range(NUM_EPISODES):\n",
        "      observation = env.reset()\n",
        "      while True:\n",
        "          now_event = observation['event_name']\n",
        "          IsBroadcast = observation['broadcast']\n",
        "          action = None\n",
        "          if IsBroadcast == True:\n",
        "              for agent in agent_list:\n",
        "                  agent.Do_Action(observation)\n",
        "          else:\n",
        "              playName = observation['data']['playerName']\n",
        "              for agent in agent_list:\n",
        "                  if agent.name == playName:\n",
        "                      action = agent.Do_Action(observation)\n",
        "          if now_event == 'GameOver':\n",
        "              num_won += int(observation['data']['Winner'] == 'MonteCarlo')\n",
        "              break\n",
        "          observation, reward, done, info = env.step(action)\n",
        "\n",
        "  print(\"Finished iter: \" + str(i))\n",
        "  mc_wins.append(num_won)"
      ]
    },
    {
      "cell_type": "code",
      "execution_count": 6,
      "metadata": {
        "colab": {
          "base_uri": "https://localhost:8080/",
          "height": 185
        },
        "colab_type": "code",
        "id": "-b3qOJsbh9pf",
        "outputId": "1d699944-7e94-4730-8a4e-69c99f3e30a7"
      },
      "outputs": [
        {
          "name": "stdout",
          "output_type": "stream",
          "text": [
            "Finished iter: 0\n",
            "Finished iter: 1\n",
            "Finished iter: 2\n",
            "Finished iter: 3\n",
            "Finished iter: 4\n",
            "Finished iter: 5\n",
            "Finished iter: 6\n",
            "Finished iter: 7\n",
            "Finished iter: 8\n",
            "Finished iter: 9\n"
          ]
        }
      ],
      "source": [
        "# Evaluate the Random!\n",
        "env = gym.make('Hearts_Card_Game-v0')\n",
        "env.__init__(playersNameList, MAX_SCORE)\n",
        "agent_list[0] = RandomAgent(playersNameList[0])\n",
        "rand_wins = []\n",
        "for i in range(NUM_ITERS):\n",
        "  num_won = 0\n",
        "  for i_episode in range(NUM_EPISODES):\n",
        "      observation = env.reset()\n",
        "      while True:\n",
        "          now_event = observation['event_name']\n",
        "          IsBroadcast = observation['broadcast']\n",
        "          action = None\n",
        "          if IsBroadcast == True:\n",
        "              for agent in agent_list:\n",
        "                  agent.Do_Action(observation)\n",
        "          else:\n",
        "              playName = observation['data']['playerName']\n",
        "              for agent in agent_list:\n",
        "                  if agent.name == playName:\n",
        "                      action = agent.Do_Action(observation)\n",
        "          if now_event == 'GameOver':\n",
        "              num_won += int(observation['data']['Winner'] == 'MonteCarlo')\n",
        "              break\n",
        "          observation, reward, done, info = env.step(action)\n",
        "  print(\"Finished iter: \" + str(i))\n",
        "  rand_wins.append(num_won)"
      ]
    },
    {
      "cell_type": "code",
      "execution_count": 7,
      "metadata": {
        "colab": {
          "base_uri": "https://localhost:8080/",
          "height": 202
        },
        "colab_type": "code",
        "id": "3kXj1tPLnR7F",
        "outputId": "6ea21659-4bce-4baf-9e89-b995889ddad2"
      },
      "outputs": [
        {
          "name": "stdout",
          "output_type": "stream",
          "text": [
            "The weights are: [-0.46031637 -1.02296217 -1.64597146  0.50871499  0.05907032 -0.04527117\n",
            " -2.67590788 -1.78400492 -0.08667306  0.48108891  0.66066313 -1.57675411\n",
            " -0.56494518 -0.07736412 -0.3257198  -0.65003209 -0.63740714  0.44494984\n",
            " -0.1545964   0.67457139  2.31472314  0.8694452  -2.29173301  0.52783125\n",
            " -0.86950875 -1.77655688 -3.29970913 -0.242993   -1.57548922 -1.34238258\n",
            "  0.36816378 -3.23065985 -0.07919411 -2.1089143  -3.12815169 -0.74580836\n",
            "  0.98398675 -0.75271283 -0.81051661 -0.60567687 -3.42010519 -0.63186969\n",
            " -2.02352157 -0.27534069 -0.28736574 -1.15836776 -3.28679005 -0.33767846\n",
            " -0.41568405  0.2782292  -1.23761129 -1.80559854]\n",
            "MC won: [292, 307, 283, 286, 309, 311, 309, 296, 282, 295] times\n",
            "Rand won: [248, 245, 242, 266, 255, 268, 273, 252, 251, 263] times\n"
          ]
        }
      ],
      "source": [
        "print(\"The weights are: \" + str(weights))\n",
        "print(\"MonteCarlo won: \" + str(mc_wins) + \" times\")\n",
        "print(\"Random won: \" + str(rand_wins) + \" times\")"
      ]
    }
  ]
}