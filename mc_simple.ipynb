{
  "nbformat": 4,
  "nbformat_minor": 0,
  "metadata": {
    "kernelspec": {
      "display_name": "Python 3",
      "language": "python",
      "name": "python3"
    },
    "language_info": {
      "codemirror_mode": {
        "name": "ipython",
        "version": 3
      },
      "file_extension": ".py",
      "mimetype": "text/x-python",
      "name": "python",
      "nbconvert_exporter": "python",
      "pygments_lexer": "ipython3",
      "version": "3.7.3"
    },
    "colab": {
      "name": "mc_simple.ipynb",
      "provenance": [],
      "collapsed_sections": []
    }
  },
  "cells": [
    {
      "cell_type": "code",
      "execution_count": 1,
      "metadata": {
        "colab": {
          "base_uri": "https://localhost:8080/",
          "height": 34
        },
        "colab_type": "code",
        "id": "ZLX5bfvuvJBg",
        "outputId": "549b447d-bf92-4e93-bfda-6edbbe2c6ff8"
      },
      "outputs": [
        {
          "name": "stdout",
          "output_type": "stream",
          "text": [
            "/content/robohearts\n"
          ]
        }
      ],
      "source": [
        "# !unzip robohearts.zip\n",
        "%cd robohearts/"
      ]
    },
    {
      "cell_type": "code",
      "execution_count": 1,
      "metadata": {},
      "outputs": [],
      "source": [
        "import gym\n",
        "from gymhearts.Hearts import *\n",
        "from gymhearts.Agent.human import Human\n",
        "from gymhearts.Agent.random_agent import RandomAgent\n",
        "from gymhearts.Agent.monte_carlo import MonteCarlo"
      ]
    },
    {
      "cell_type": "code",
      "execution_count": 5,
      "metadata": {},
      "outputs": [],
      "source": [
        "NUM_ITERS = 10\n",
        "NUM_EPISODES = 1000\n",
        "TRAINING_ITERS = 10000\n",
        "MAX_SCORE = 100\n",
        "playersNameList = ['MonteCarlo', 'Rando', 'Randy', 'Randall']\n",
        "agent_list = [0, 0, 0, 0]\n",
        "\n",
        "# Human vs Random\n",
        "agent_list[0] = MonteCarlo(playersNameList[0], {'print_info' : False})\n",
        "agent_list[1] = RandomAgent(playersNameList[1], {'print_info' : False})\n",
        "agent_list[2] = RandomAgent(playersNameList[2], {'print_info' : False})\n",
        "agent_list[3] = RandomAgent(playersNameList[3], {'print_info' : False})"
      ]
    },
    {
      "cell_type": "code",
      "execution_count": 6,
      "metadata": {},
      "outputs": [
        {
          "name": "stdout",
          "output_type": "stream",
          "text": "ROUND IS OVER\n{'MonteCarlo': 6, 'Rando': 6, 'Randy': 14, 'Randall': 0}\n[{'event_name': 'PassCards', 'broadcast': False, 'data': {'playerName': 'MonteCarlo', 'hand': ['7c', '8c', 'Tc', 'Jc', 'Kc', '3d', '7d', 'Kd', '5s', '8s', '9s', 'Ks', '5h']}}, {'event_name': 'ShowPlayerHand', 'broadcast': False, 'data': {'playerName': 'MonteCarlo', 'hand': ['Tc', 'Jc', 'Kc', 'Ac', '3d', '7d', 'Kd', 'Ad', '8s', '9s', 'Ks', '2h', '5h']}}, {'event_name': 'PlayTrick', 'broadcast': False, 'data': {'playerName': 'MonteCarlo', 'hand': ['Tc', 'Jc', 'Kc', 'Ac', '3d', '7d', 'Kd', 'Ad', '8s', '9s', 'Ks', '2h', '5h'], 'trickNum': 1, 'trickSuit': 'c', 'currentTrick': [{'playerName': 'Randy', 'card': '2c'}, {'playerName': 'Randall', 'card': '5c'}], 'IsHeartsBroken': False}}, {'event_name': 'PlayTrick', 'broadcast': False, 'data': {'playerName': 'MonteCarlo', 'hand': ['Jc', 'Kc', 'Ac', '3d', '7d', 'Kd', 'Ad', '8s', '9s', 'Ks', '2h', '5h'], 'trickNum': 2, 'trickSuit': 'Unset', 'currentTrick': [], 'IsHeartsBroken': False}}, {'event_name': 'PlayTrick', 'broadcast': False, 'data': {'playerName': 'MonteCarlo', 'hand': ['Kc', 'Ac', '3d', '7d', 'Kd', 'Ad', '8s', '9s', 'Ks', '2h', '5h'], 'trickNum': 3, 'trickSuit': 'Unset', 'currentTrick': [], 'IsHeartsBroken': False}}, {'event_name': 'PlayTrick', 'broadcast': False, 'data': {'playerName': 'MonteCarlo', 'hand': ['Ac', '3d', '7d', 'Kd', 'Ad', '8s', '9s', 'Ks', '2h', '5h'], 'trickNum': 4, 'trickSuit': 'Unset', 'currentTrick': [], 'IsHeartsBroken': False}}, {'event_name': 'PlayTrick', 'broadcast': False, 'data': {'playerName': 'MonteCarlo', 'hand': ['3d', '7d', 'Kd', 'Ad', '8s', '9s', 'Ks', '2h', '5h'], 'trickNum': 5, 'trickSuit': 'Unset', 'currentTrick': [], 'IsHeartsBroken': True}}, {'event_name': 'PlayTrick', 'broadcast': False, 'data': {'playerName': 'MonteCarlo', 'hand': ['7d', 'Kd', 'Ad', '8s', '9s', 'Ks', '2h', '5h'], 'trickNum': 6, 'trickSuit': 'd', 'currentTrick': [{'playerName': 'Randall', 'card': '8d'}], 'IsHeartsBroken': True}}, {'event_name': 'PlayTrick', 'broadcast': False, 'data': {'playerName': 'MonteCarlo', 'hand': ['Kd', 'Ad', '8s', '9s', 'Ks', '2h', '5h'], 'trickNum': 7, 'trickSuit': 'd', 'currentTrick': [{'playerName': 'Randall', 'card': '9d'}], 'IsHeartsBroken': True}}, {'event_name': 'PlayTrick', 'broadcast': False, 'data': {'playerName': 'MonteCarlo', 'hand': ['Ad', '8s', '9s', 'Ks', '2h', '5h'], 'trickNum': 8, 'trickSuit': 'Unset', 'currentTrick': [], 'IsHeartsBroken': True}}, {'event_name': 'PlayTrick', 'broadcast': False, 'data': {'playerName': 'MonteCarlo', 'hand': ['8s', '9s', 'Ks', '2h', '5h'], 'trickNum': 9, 'trickSuit': 'Unset', 'currentTrick': [], 'IsHeartsBroken': True}}, {'event_name': 'PlayTrick', 'broadcast': False, 'data': {'playerName': 'MonteCarlo', 'hand': ['9s', 'Ks', '2h', '5h'], 'trickNum': 10, 'trickSuit': 'Unset', 'currentTrick': [], 'IsHeartsBroken': True}}, {'event_name': 'PlayTrick', 'broadcast': False, 'data': {'playerName': 'MonteCarlo', 'hand': ['Ks', '2h', '5h'], 'trickNum': 11, 'trickSuit': 's', 'currentTrick': [{'playerName': 'Randy', 'card': '6s'}, {'playerName': 'Randall', 'card': 'Js'}], 'IsHeartsBroken': True}}, {'event_name': 'PlayTrick', 'broadcast': False, 'data': {'playerName': 'MonteCarlo', 'hand': ['2h', '5h'], 'trickNum': 12, 'trickSuit': 'Unset', 'currentTrick': [], 'IsHeartsBroken': True}}, {'event_name': 'PlayTrick', 'broadcast': False, 'data': {'playerName': 'MonteCarlo', 'hand': ['5h'], 'trickNum': 13, 'trickSuit': 'h', 'currentTrick': [{'playerName': 'Rando', 'card': 'Ah'}, {'playerName': 'Randy', 'card': 'As'}, {'playerName': 'Randall', 'card': 'Ts'}], 'IsHeartsBroken': True}}]\n"
        },
        {
          "ename": "AttributeError",
          "evalue": "'MonteCarlo' object has no attribute 'get_value_fn'",
          "output_type": "error",
          "traceback": [
            "\u001b[0;31m---------------------------------------------------------------------------\u001b[0m",
            "\u001b[0;31mAttributeError\u001b[0m                            Traceback (most recent call last)",
            "\u001b[0;32m<ipython-input-6-f215dfa91f46>\u001b[0m in \u001b[0;36m<module>\u001b[0;34m\u001b[0m\n\u001b[1;32m     26\u001b[0m             \u001b[0mprint\u001b[0m\u001b[0;34m(\u001b[0m\u001b[0mreward\u001b[0m\u001b[0;34m)\u001b[0m\u001b[0;34m\u001b[0m\u001b[0;34m\u001b[0m\u001b[0m\n\u001b[1;32m     27\u001b[0m             \u001b[0mprint\u001b[0m\u001b[0;34m(\u001b[0m\u001b[0mhistory\u001b[0m\u001b[0;34m)\u001b[0m\u001b[0;34m\u001b[0m\u001b[0;34m\u001b[0m\u001b[0m\n\u001b[0;32m---> 28\u001b[0;31m             \u001b[0magent_list\u001b[0m\u001b[0;34m[\u001b[0m\u001b[0;36m0\u001b[0m\u001b[0;34m]\u001b[0m\u001b[0;34m.\u001b[0m\u001b[0mupdate_value_weights\u001b[0m\u001b[0;34m(\u001b[0m\u001b[0mhistory\u001b[0m\u001b[0;34m,\u001b[0m \u001b[0;34m-\u001b[0m\u001b[0mreward\u001b[0m\u001b[0;34m[\u001b[0m\u001b[0;34m'MonteCarlo'\u001b[0m\u001b[0;34m]\u001b[0m\u001b[0;34m)\u001b[0m\u001b[0;34m\u001b[0m\u001b[0;34m\u001b[0m\u001b[0m\n\u001b[0m\u001b[1;32m     29\u001b[0m             \u001b[0mhistory\u001b[0m \u001b[0;34m=\u001b[0m \u001b[0;34m[\u001b[0m\u001b[0;34m]\u001b[0m\u001b[0;34m\u001b[0m\u001b[0;34m\u001b[0m\u001b[0m\n\u001b[1;32m     30\u001b[0m             \u001b[0mweights\u001b[0m \u001b[0;34m=\u001b[0m \u001b[0magent_list\u001b[0m\u001b[0;34m[\u001b[0m\u001b[0;36m0\u001b[0m\u001b[0;34m]\u001b[0m\u001b[0;34m.\u001b[0m\u001b[0mweight_vec\u001b[0m\u001b[0;34m\u001b[0m\u001b[0;34m\u001b[0m\u001b[0m\n",
            "\u001b[0;32m~/repos/robohearts/gymhearts/Agent/monte_carlo.py\u001b[0m in \u001b[0;36mupdate_value_weights\u001b[0;34m(self, history, reward)\u001b[0m\n\u001b[1;32m     64\u001b[0m             \u001b[0mreward\u001b[0m \u001b[0;34m=\u001b[0m \u001b[0;36m0\u001b[0m \u001b[0;32mif\u001b[0m \u001b[0mreward\u001b[0m \u001b[0;34m==\u001b[0m \u001b[0;32mNone\u001b[0m \u001b[0;32melse\u001b[0m \u001b[0mreward\u001b[0m\u001b[0;34m\u001b[0m\u001b[0;34m\u001b[0m\u001b[0m\n\u001b[1;32m     65\u001b[0m             \u001b[0mreturns\u001b[0m \u001b[0;34m=\u001b[0m \u001b[0mreward\u001b[0m \u001b[0;34m+\u001b[0m \u001b[0mself\u001b[0m\u001b[0;34m.\u001b[0m\u001b[0mGAMMA\u001b[0m \u001b[0;34m*\u001b[0m \u001b[0mreturns\u001b[0m\u001b[0;34m\u001b[0m\u001b[0;34m\u001b[0m\u001b[0m\n\u001b[0;32m---> 66\u001b[0;31m             \u001b[0mvalue_fn\u001b[0m \u001b[0;34m=\u001b[0m \u001b[0mself\u001b[0m\u001b[0;34m.\u001b[0m\u001b[0mget_value_fn\u001b[0m\u001b[0;34m(\u001b[0m\u001b[0mobservation\u001b[0m\u001b[0;34m[\u001b[0m\u001b[0;34m'data'\u001b[0m\u001b[0;34m]\u001b[0m\u001b[0;34m[\u001b[0m\u001b[0;34m'hand'\u001b[0m\u001b[0;34m]\u001b[0m\u001b[0;34m)\u001b[0m\u001b[0;34m\u001b[0m\u001b[0;34m\u001b[0m\u001b[0m\n\u001b[0m\u001b[1;32m     67\u001b[0m             \u001b[0mvalue\u001b[0m \u001b[0;34m=\u001b[0m \u001b[0mvalue_fn\u001b[0m\u001b[0;34m.\u001b[0m\u001b[0msum\u001b[0m\u001b[0;34m(\u001b[0m\u001b[0;34m)\u001b[0m\u001b[0;34m\u001b[0m\u001b[0;34m\u001b[0m\u001b[0m\n\u001b[1;32m     68\u001b[0m             \u001b[0mself\u001b[0m\u001b[0;34m.\u001b[0m\u001b[0mweight_vec\u001b[0m \u001b[0;34m+=\u001b[0m \u001b[0mself\u001b[0m\u001b[0;34m.\u001b[0m\u001b[0mALPHA\u001b[0m \u001b[0;34m*\u001b[0m \u001b[0;34m(\u001b[0m\u001b[0mreward\u001b[0m \u001b[0;34m-\u001b[0m \u001b[0mvalue\u001b[0m\u001b[0;34m)\u001b[0m \u001b[0;34m*\u001b[0m \u001b[0mself\u001b[0m\u001b[0;34m.\u001b[0m\u001b[0mfeatures\u001b[0m\u001b[0;34m(\u001b[0m\u001b[0mhand\u001b[0m\u001b[0;34m)\u001b[0m\u001b[0;34m\u001b[0m\u001b[0;34m\u001b[0m\u001b[0m\n",
            "\u001b[0;31mAttributeError\u001b[0m: 'MonteCarlo' object has no attribute 'get_value_fn'"
          ]
        }
      ],
      "source": [
        "# who cares about output in training\n",
        "env = gym.make('Hearts_Card_Game-v0')\n",
        "env.__init__(playersNameList, MAX_SCORE)\n",
        "weights = []\n",
        "for trn_episode in range(TRAINING_ITERS):\n",
        "    observation = env.reset()\n",
        "    history = []\n",
        "    while True:\n",
        "        #env.render()\n",
        "\n",
        "        now_event = observation['event_name']\n",
        "        IsBroadcast = observation['broadcast']\n",
        "        action = None\n",
        "        if IsBroadcast == True:\n",
        "            for agent in agent_list:\n",
        "                agent.Do_Action(observation)\n",
        "        else:\n",
        "            playName = observation['data']['playerName']\n",
        "            for agent in agent_list:\n",
        "                if agent.name == playName:\n",
        "                    action = agent.Do_Action(observation)\n",
        "\n",
        "        # update my agent\n",
        "        if now_event == 'RoundEnd':\n",
        "            agent_list[0].update_weights(history, -reward['MonteCarlo'])\n",
        "            history = []\n",
        "            weights = agent_list[0].weight_vec\n",
        "        if now_event == 'GameOver':\n",
        "              break\n",
        "        if not IsBroadcast and observation['data']['playerName'] == 'MonteCarlo':\n",
        "            history.append(observation)\n",
        "        observation, reward, done, info = env.step(action)\n"
      ]
    },
    {
      "cell_type": "code",
      "execution_count": 5,
      "metadata": {
        "colab": {
          "base_uri": "https://localhost:8080/",
          "height": 185
        },
        "colab_type": "code",
        "id": "Qn-MK5D5pBUw",
        "outputId": "2d5fa5ed-87d6-4c10-aaf7-cb7e6e5883c1"
      },
      "outputs": [
        {
          "name": "stdout",
          "output_type": "stream",
          "text": [
            "Finished iter: 0\n",
            "Finished iter: 1\n",
            "Finished iter: 2\n",
            "Finished iter: 3\n",
            "Finished iter: 4\n",
            "Finished iter: 5\n",
            "Finished iter: 6\n",
            "Finished iter: 7\n",
            "Finished iter: 8\n",
            "Finished iter: 9\n"
          ]
        }
      ],
      "source": [
        "# Evaluate the MC! Comment this line in for pretrained\n",
        "# weights = [ [-0.46031637, -1.02296217, -1.64597146, 0.50871499, 0.05907032, -0.04527117,\n",
        "# -2.67590788, -1.78400492, -0.08667306, 0.48108891, 0.66066313, -1.57675411,\n",
        "# -0.56494518, -0.07736412, -0.3257198, -0.65003209, -0.63740714, 0.44494984,\n",
        "# -0.1545964, 0.67457139, 2.31472314, 0.8694452, -2.29173301, 0.52783125,\n",
        "# -0.86950875, -1.77655688, -3.29970913, -0.242993, -1.57548922, -1.34238258,\n",
        "# 0.36816378, -3.23065985, -0.07919411, -2.1089143, -3.12815169, -0.74580836,\n",
        "# 0.98398675, -0.75271283, -0.81051661, -0.60567687, -3.42010519, -0.63186969,\n",
        "# -2.02352157, -0.27534069, -0.28736574, -1.15836776, -3.28679005, -0.33767846,\n",
        "# -0.41568405, 0.2782292, -1.23761129, -1.80559854]\n",
        "env = gym.make('Hearts_Card_Game-v0')\n",
        "env.__init__(playersNameList, MAX_SCORE)\n",
        "agent_list[0] = MonteCarlo(playersNameList[0], params={'weight_vec' : weights})\n",
        "mc_wins = []\n",
        "for i in range(NUM_ITERS):\n",
        "  num_won = 0\n",
        "  for i_episode in range(NUM_EPISODES):\n",
        "      observation = env.reset()\n",
        "      while True:\n",
        "          now_event = observation['event_name']\n",
        "          IsBroadcast = observation['broadcast']\n",
        "          action = None\n",
        "          if IsBroadcast == True:\n",
        "              for agent in agent_list:\n",
        "                  agent.Do_Action(observation)\n",
        "          else:\n",
        "              playName = observation['data']['playerName']\n",
        "              for agent in agent_list:\n",
        "                  if agent.name == playName:\n",
        "                      action = agent.Do_Action(observation)\n",
        "          if now_event == 'GameOver':\n",
        "              num_won += int(observation['data']['Winner'] == 'MonteCarlo')\n",
        "              break\n",
        "          observation, reward, done, info = env.step(action)\n",
        "\n",
        "  print(\"Finished iter: \" + str(i))\n",
        "  mc_wins.append(num_won)"
      ]
    },
    {
      "cell_type": "code",
      "execution_count": 6,
      "metadata": {
        "colab": {
          "base_uri": "https://localhost:8080/",
          "height": 185
        },
        "colab_type": "code",
        "id": "-b3qOJsbh9pf",
        "outputId": "1d699944-7e94-4730-8a4e-69c99f3e30a7"
      },
      "outputs": [
        {
          "name": "stdout",
          "output_type": "stream",
          "text": [
            "Finished iter: 0\n",
            "Finished iter: 1\n",
            "Finished iter: 2\n",
            "Finished iter: 3\n",
            "Finished iter: 4\n",
            "Finished iter: 5\n",
            "Finished iter: 6\n",
            "Finished iter: 7\n",
            "Finished iter: 8\n",
            "Finished iter: 9\n"
          ]
        }
      ],
      "source": [
        "# Evaluate the Random!\n",
        "env = gym.make('Hearts_Card_Game-v0')\n",
        "env.__init__(playersNameList, MAX_SCORE)\n",
        "agent_list[0] = RandomAgent(playersNameList[0])\n",
        "rand_wins = []\n",
        "for i in range(NUM_ITERS):\n",
        "  num_won = 0\n",
        "  for i_episode in range(NUM_EPISODES):\n",
        "      observation = env.reset()\n",
        "      while True:\n",
        "          now_event = observation['event_name']\n",
        "          IsBroadcast = observation['broadcast']\n",
        "          action = None\n",
        "          if IsBroadcast == True:\n",
        "              for agent in agent_list:\n",
        "                  agent.Do_Action(observation)\n",
        "          else:\n",
        "              playName = observation['data']['playerName']\n",
        "              for agent in agent_list:\n",
        "                  if agent.name == playName:\n",
        "                      action = agent.Do_Action(observation)\n",
        "          if now_event == 'GameOver':\n",
        "              num_won += int(observation['data']['Winner'] == 'MonteCarlo')\n",
        "              break\n",
        "          observation, reward, done, info = env.step(action)\n",
        "  print(\"Finished iter: \" + str(i))\n",
        "  rand_wins.append(num_won)"
      ]
    },
    {
      "cell_type": "code",
      "execution_count": 7,
      "metadata": {
        "colab": {
          "base_uri": "https://localhost:8080/",
          "height": 202
        },
        "colab_type": "code",
        "id": "3kXj1tPLnR7F",
        "outputId": "6ea21659-4bce-4baf-9e89-b995889ddad2"
      },
      "outputs": [
        {
          "name": "stdout",
          "output_type": "stream",
          "text": [
            "The weights are: [-0.46031637 -1.02296217 -1.64597146  0.50871499  0.05907032 -0.04527117\n",
            " -2.67590788 -1.78400492 -0.08667306  0.48108891  0.66066313 -1.57675411\n",
            " -0.56494518 -0.07736412 -0.3257198  -0.65003209 -0.63740714  0.44494984\n",
            " -0.1545964   0.67457139  2.31472314  0.8694452  -2.29173301  0.52783125\n",
            " -0.86950875 -1.77655688 -3.29970913 -0.242993   -1.57548922 -1.34238258\n",
            "  0.36816378 -3.23065985 -0.07919411 -2.1089143  -3.12815169 -0.74580836\n",
            "  0.98398675 -0.75271283 -0.81051661 -0.60567687 -3.42010519 -0.63186969\n",
            " -2.02352157 -0.27534069 -0.28736574 -1.15836776 -3.28679005 -0.33767846\n",
            " -0.41568405  0.2782292  -1.23761129 -1.80559854]\n",
            "MC won: [292, 307, 283, 286, 309, 311, 309, 296, 282, 295] times\n",
            "Rand won: [248, 245, 242, 266, 255, 268, 273, 252, 251, 263] times\n"
          ]
        }
      ],
      "source": [
        "print(\"The weights are: \" + str(weights))\n",
        "print(\"MonteCarlo won: \" + str(mc_wins) + \" times\")\n",
        "print(\"Random won: \" + str(rand_wins) + \" times\")"
      ]
    }
  ]
}