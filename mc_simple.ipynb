{
 "cells": [
  {
   "cell_type": "code",
   "execution_count": 1,
   "metadata": {
    "colab": {
     "base_uri": "https://localhost:8080/",
     "height": 34
    },
    "colab_type": "code",
    "id": "ZLX5bfvuvJBg",
    "outputId": "549b447d-bf92-4e93-bfda-6edbbe2c6ff8"
   },
   "outputs": [
    {
     "name": "stdout",
     "output_type": "stream",
     "text": [
      "/content/robohearts\n"
     ]
    }
   ],
   "source": [
    "# !unzip robohearts.zip\n",
    "%cd robohearts/"
   ]
  },
  {
   "cell_type": "code",
   "execution_count": 12,
   "metadata": {},
   "outputs": [],
   "source": [
    "import gym\n",
    "from gymhearts.Hearts import *\n",
    "from gymhearts.Agent.human import Human\n",
    "from gymhearts.Agent.random_agent import RandomAgent\n",
    "from gymhearts.Agent.monte_carlo import MonteCarlo\n",
    "from tqdm import tqdm_notebook"
   ]
  },
  {
   "cell_type": "code",
   "execution_count": 2,
   "metadata": {},
   "outputs": [],
   "source": [
    "NUM_ITERS = 10\n",
    "NUM_EPISODES = 1000\n",
    "TRAINING_ITERS = 10000\n",
    "MAX_SCORE = 100\n",
    "playersNameList = ['MonteCarlo', 'Rando', 'Randy', 'Randall']\n",
    "agent_list = [0, 0, 0, 0]\n",
    "\n",
    "# Human vs Random\n",
    "agent_list[0] = MonteCarlo(playersNameList[0], {'print_info' : False})\n",
    "agent_list[1] = RandomAgent(playersNameList[1], {'print_info' : False})\n",
    "agent_list[2] = RandomAgent(playersNameList[2], {'print_info' : False})\n",
    "agent_list[3] = RandomAgent(playersNameList[3], {'print_info' : False})"
   ]
  },
  {
   "cell_type": "code",
   "execution_count": 3,
   "metadata": {},
   "outputs": [
    {
     "name": "stderr",
     "output_type": "stream",
     "text": [
      "100%|██████████| 10000/10000 [08:04<00:00, 20.63it/s]\n"
     ]
    }
   ],
   "source": [
    "env = gym.make('Hearts_Card_Game-v0')\n",
    "env.__init__(playersNameList, MAX_SCORE)\n",
    "weights = []\n",
    "for trn_episode in tqdm_notebook(range(TRAINING_ITERS)):\n",
    "    observation = env.reset()\n",
    "    history = []\n",
    "    while True:\n",
    "        #env.render()\n",
    "\n",
    "        now_event = observation['event_name']\n",
    "        IsBroadcast = observation['broadcast']\n",
    "        action = None\n",
    "        if IsBroadcast == True:\n",
    "            for agent in agent_list:\n",
    "                agent.Do_Action(observation)\n",
    "        else:\n",
    "            playName = observation['data']['playerName']\n",
    "            for agent in agent_list:\n",
    "                if agent.name == playName:\n",
    "                    action = agent.Do_Action(observation)\n",
    "\n",
    "        # update my agent\n",
    "        if now_event == 'RoundEnd':\n",
    "            agent_list[0].update_weights(history, -reward['MonteCarlo'])\n",
    "            history = []\n",
    "            weights = agent_list[0].weight_vec\n",
    "        if now_event == 'GameOver':\n",
    "              break\n",
    "        if not IsBroadcast and observation['data']['playerName'] == 'MonteCarlo':\n",
    "            history.append(observation)\n",
    "        observation, reward, done, info = env.step(action)\n"
   ]
  },
  {
   "cell_type": "code",
   "execution_count": null,
   "metadata": {
    "colab": {
     "base_uri": "https://localhost:8080/",
     "height": 185
    },
    "colab_type": "code",
    "id": "Qn-MK5D5pBUw",
    "outputId": "2d5fa5ed-87d6-4c10-aaf7-cb7e6e5883c1"
   },
   "outputs": [
    {
     "data": {
      "application/vnd.jupyter.widget-view+json": {
       "model_id": "f197170818ae4a409f4e20fc3f340640",
       "version_major": 2,
       "version_minor": 0
      },
      "text/plain": [
       "HBox(children=(IntProgress(value=0, max=10), HTML(value='')))"
      ]
     },
     "metadata": {},
     "output_type": "display_data"
    },
    {
     "data": {
      "application/vnd.jupyter.widget-view+json": {
       "model_id": "f4fd0ebae1c34cb79e772a4321b6a380",
       "version_major": 2,
       "version_minor": 0
      },
      "text/plain": [
       "HBox(children=(IntProgress(value=0, max=1000), HTML(value='')))"
      ]
     },
     "metadata": {},
     "output_type": "display_data"
    },
    {
     "name": "stdout",
     "output_type": "stream",
     "text": [
      "Finished iter: 999 and Monte Carlo won 266 games\n"
     ]
    },
    {
     "data": {
      "application/vnd.jupyter.widget-view+json": {
       "model_id": "6836a07bd40341278f4f05be4c4e89c7",
       "version_major": 2,
       "version_minor": 0
      },
      "text/plain": [
       "HBox(children=(IntProgress(value=0, max=1000), HTML(value='')))"
      ]
     },
     "metadata": {},
     "output_type": "display_data"
    },
    {
     "name": "stdout",
     "output_type": "stream",
     "text": [
      "Finished iter: 999 and Monte Carlo won 265 games\n"
     ]
    },
    {
     "data": {
      "application/vnd.jupyter.widget-view+json": {
       "model_id": "a47f6154e3a3444c9b6acbdfe07af9d1",
       "version_major": 2,
       "version_minor": 0
      },
      "text/plain": [
       "HBox(children=(IntProgress(value=0, max=1000), HTML(value='')))"
      ]
     },
     "metadata": {},
     "output_type": "display_data"
    },
    {
     "name": "stdout",
     "output_type": "stream",
     "text": [
      "Finished iter: 999 and Monte Carlo won 272 games\n"
     ]
    },
    {
     "data": {
      "application/vnd.jupyter.widget-view+json": {
       "model_id": "3ee9279ac86142c58a6ee56832be5b91",
       "version_major": 2,
       "version_minor": 0
      },
      "text/plain": [
       "HBox(children=(IntProgress(value=0, max=1000), HTML(value='')))"
      ]
     },
     "metadata": {},
     "output_type": "display_data"
    }
   ],
   "source": [
    "# Evaluate the MC! Comment this line in for pretrained\n",
    "# weights = [ [-0.46031637, -1.02296217, -1.64597146, 0.50871499, 0.05907032, -0.04527117,\n",
    "# -2.67590788, -1.78400492, -0.08667306, 0.48108891, 0.66066313, -1.57675411,\n",
    "# -0.56494518, -0.07736412, -0.3257198, -0.65003209, -0.63740714, 0.44494984,\n",
    "# -0.1545964, 0.67457139, 2.31472314, 0.8694452, -2.29173301, 0.52783125,\n",
    "# -0.86950875, -1.77655688, -3.29970913, -0.242993, -1.57548922, -1.34238258,\n",
    "# 0.36816378, -3.23065985, -0.07919411, -2.1089143, -3.12815169, -0.74580836,\n",
    "# 0.98398675, -0.75271283, -0.81051661, -0.60567687, -3.42010519, -0.63186969,\n",
    "# -2.02352157, -0.27534069, -0.28736574, -1.15836776, -3.28679005, -0.33767846,\n",
    "# -0.41568405, 0.2782292, -1.23761129, -1.80559854]\n",
    "\n",
    "# Post Bugfix Weights\n",
    "weights = [-0.21318237, -0.33609378, -3.06870998, 0.39171146, 0.47908034, 0.40480978,\n",
    "           -1.35616634, -0.4021517, 0.58512691, -2.54773315, -3.59089738, 0.54679956, \n",
    "           0.79344042, 2.25382377, 0.94113981, 0.98289402, -2.90413816, 0.31280282,\n",
    "           1.10933459, -0.93644451, 0.8844734, -1.416515, -0.03745501, 0.46160823,\n",
    "           0.18684843, 1.31902877, -0.02729632, -1.60509692, 1.48645256, 0.54908805,\n",
    "           -4.87376787, -2.62636423, 0.7712582, 0.86374657, 2.53848851, 1.34307545,\n",
    "           0.85549627, -2.04717604, 0.42198286, 0.38010974, -0.59533779, 0.30433453,\n",
    "           0.74974959, 0.14862843, 0.66297907, 0.27424737, 0.49434205, 0.05877661,\n",
    "           0.45332458, -0.80653987, 0.31035404, 0.28363006]\n",
    "\n",
    "env = gym.make('Hearts_Card_Game-v0')\n",
    "env.__init__(playersNameList, MAX_SCORE)\n",
    "agent_list[0] = MonteCarlo(playersNameList[0], params={'weight_vec' : weights})\n",
    "mc_wins = []\n",
    "for i_it in tqdm_notebook(range(NUM_ITERS)):\n",
    "  num_won = 0\n",
    "  for i_ep in tqdm_notebook(range(NUM_EPISODES)):\n",
    "      observation = env.reset()\n",
    "      while True:\n",
    "          now_event = observation['event_name']\n",
    "          IsBroadcast = observation['broadcast']\n",
    "          action = None\n",
    "          if IsBroadcast == True:\n",
    "              for agent in agent_list:\n",
    "                  agent.Do_Action(observation)\n",
    "          else:\n",
    "              playName = observation['data']['playerName']\n",
    "              for agent in agent_list:\n",
    "                  if agent.name == playName:\n",
    "                      action = agent.Do_Action(observation)\n",
    "          if now_event == 'GameOver':\n",
    "              num_won += int(observation['data']['Winner'] == 'MonteCarlo')\n",
    "              break\n",
    "          observation, reward, done, info = env.step(action)\n",
    "\n",
    "  print(f\"Finished iter: {i_ep} and Monte Carlo won {num_won} games\")\n",
    "  mc_wins.append(num_won)"
   ]
  },
  {
   "cell_type": "code",
   "execution_count": 6,
   "metadata": {
    "colab": {
     "base_uri": "https://localhost:8080/",
     "height": 185
    },
    "colab_type": "code",
    "id": "-b3qOJsbh9pf",
    "outputId": "1d699944-7e94-4730-8a4e-69c99f3e30a7"
   },
   "outputs": [
    {
     "name": "stdout",
     "output_type": "stream",
     "text": [
      "Finished iter: 0\n",
      "Finished iter: 1\n",
      "Finished iter: 2\n",
      "Finished iter: 3\n",
      "Finished iter: 4\n",
      "Finished iter: 5\n",
      "Finished iter: 6\n",
      "Finished iter: 7\n",
      "Finished iter: 8\n",
      "Finished iter: 9\n"
     ]
    }
   ],
   "source": [
    "# Evaluate the Random!\n",
    "env = gym.make('Hearts_Card_Game-v0')\n",
    "env.__init__(playersNameList, MAX_SCORE)\n",
    "agent_list[0] = RandomAgent(playersNameList[0])\n",
    "rand_wins = []\n",
    "for i_it in tqdm_notebook(range(NUM_ITERS)):\n",
    "  num_won = 0\n",
    "  for i_ep in tqdm_notebook(range(NUM_EPISODES)):\n",
    "      observation = env.reset()\n",
    "      while True:\n",
    "          now_event = observation['event_name']\n",
    "          IsBroadcast = observation['broadcast']\n",
    "          action = None\n",
    "          if IsBroadcast == True:\n",
    "              for agent in agent_list:\n",
    "                  agent.Do_Action(observation)\n",
    "          else:\n",
    "              playName = observation['data']['playerName']\n",
    "              for agent in agent_list:\n",
    "                  if agent.name == playName:\n",
    "                      action = agent.Do_Action(observation)\n",
    "          if now_event == 'GameOver':\n",
    "              num_won += int(observation['data']['Winner'] == 'MonteCarlo')\n",
    "              break\n",
    "          observation, reward, done, info = env.step(action)\n",
    "  print(f\"Finished iter: {i_ep} and Random Agent won {num_won} games\")\n",
    "  rand_wins.append(num_won)"
   ]
  },
  {
   "cell_type": "code",
   "execution_count": 7,
   "metadata": {
    "colab": {
     "base_uri": "https://localhost:8080/",
     "height": 202
    },
    "colab_type": "code",
    "id": "3kXj1tPLnR7F",
    "outputId": "6ea21659-4bce-4baf-9e89-b995889ddad2"
   },
   "outputs": [
    {
     "name": "stdout",
     "output_type": "stream",
     "text": [
      "The weights are: [-0.46031637 -1.02296217 -1.64597146  0.50871499  0.05907032 -0.04527117\n",
      " -2.67590788 -1.78400492 -0.08667306  0.48108891  0.66066313 -1.57675411\n",
      " -0.56494518 -0.07736412 -0.3257198  -0.65003209 -0.63740714  0.44494984\n",
      " -0.1545964   0.67457139  2.31472314  0.8694452  -2.29173301  0.52783125\n",
      " -0.86950875 -1.77655688 -3.29970913 -0.242993   -1.57548922 -1.34238258\n",
      "  0.36816378 -3.23065985 -0.07919411 -2.1089143  -3.12815169 -0.74580836\n",
      "  0.98398675 -0.75271283 -0.81051661 -0.60567687 -3.42010519 -0.63186969\n",
      " -2.02352157 -0.27534069 -0.28736574 -1.15836776 -3.28679005 -0.33767846\n",
      " -0.41568405  0.2782292  -1.23761129 -1.80559854]\n",
      "MC won: [292, 307, 283, 286, 309, 311, 309, 296, 282, 295] times\n",
      "Rand won: [248, 245, 242, 266, 255, 268, 273, 252, 251, 263] times\n"
     ]
    }
   ],
   "source": [
    "print(\"The weights are: \" + str(weights))\n",
    "print(\"MonteCarlo won: \" + str(mc_wins) + \" times\")\n",
    "print(\"Random won: \" + str(rand_wins) + \" times\")"
   ]
  }
 ],
 "metadata": {
  "colab": {
   "collapsed_sections": [],
   "name": "mc_simple.ipynb",
   "provenance": []
  },
  "kernelspec": {
   "display_name": "Python 3",
   "language": "python",
   "name": "python3"
  },
  "language_info": {
   "codemirror_mode": {
    "name": "ipython",
    "version": 3
   },
   "file_extension": ".py",
   "mimetype": "text/x-python",
   "name": "python",
   "nbconvert_exporter": "python",
   "pygments_lexer": "ipython3",
   "version": "3.7.3"
  }
 },
 "nbformat": 4,
 "nbformat_minor": 1
}
